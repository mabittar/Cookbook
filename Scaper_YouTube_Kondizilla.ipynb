{
  "nbformat": 4,
  "nbformat_minor": 0,
  "metadata": {
    "colab": {
      "name": "Scaper-YouTube-Kondizilla.ipynb",
      "provenance": [],
      "collapsed_sections": [],
      "authorship_tag": "ABX9TyOgqpu/zEdiHP3oEKcrW+Yb",
      "include_colab_link": true
    },
    "kernelspec": {
      "name": "python3",
      "display_name": "Python 3"
    }
  },
  "cells": [
    {
      "cell_type": "markdown",
      "metadata": {
        "id": "view-in-github",
        "colab_type": "text"
      },
      "source": [
        "<a href=\"https://colab.research.google.com/github/mabittar/Cookbook/blob/master/Scaper_YouTube_Kondizilla.ipynb\" target=\"_parent\"><img src=\"https://colab.research.google.com/assets/colab-badge.svg\" alt=\"Open In Colab\"/></a>"
      ]
    },
    {
      "cell_type": "markdown",
      "metadata": {
        "id": "v5qQwpfgeZMF"
      },
      "source": [
        "# Informações e Estatistas de canais do YouTube\r\n",
        "\r\n",
        "Esse notebook nasceu como um exercício de fixação de conceitos de criação e utilização de um  Web Scraper para obtenção de dados estatísticos de canais do YouTube.\r\n",
        "\r\n",
        "Adiante será visto que existem restrições e limitações para a utilização dessa ferramenta. O Youtuber promove a utilização de API's, portanto foi possível utilizar-se dessa ferramenta para contornar essa restrição."
      ]
    },
    {
      "cell_type": "markdown",
      "metadata": {
        "id": "IuYb8o2heoDG"
      },
      "source": [
        "## Youtube\r\n",
        "\r\n",
        "Não é uma novidade que milhares de pessoas estão conseguindo montar uma verdadeira carreira no YouTube, o site deixou de ser apenas uma plataforma onde vídeos são postados despretensiosamente quando alguma cena diferente é gravada pela lente de uma câmera, agora, postar vídeo no YouTube se tornou um trabalho com potencial muito mais rentável que a própria televisão."
      ]
    },
    {
      "cell_type": "markdown",
      "metadata": {
        "id": "ava0UzpLI0lK"
      },
      "source": [
        "## Web Scraper \r\n",
        "\r\n",
        "Nesse web scraper  veremos como criar um algoritmo para baixar os metadados dos vídeos publicados em um canal do Youtube utilizando o [BeautifulSoup](https://www.crummy.com/software/BeautifulSoup/bs4/doc/).\r\n",
        "\r\n",
        "Esse é apenas um exemplo de aplicação de um Crawler, que pode ser utilizado para registrar preços de um produto, oportunidades de imóveis para venda ou locação, disponibilidade de servidores e assim por diante.\r\n",
        "\r\n",
        "Web Crawler, bot ou web spider é um algoritmo utilizado para encontrar, ler e gravar informações de páginas da internet. É como um robô que varre o caminho indicado e captura as informações que encontra pela frente.\r\n",
        "\r\n",
        "Um dos maiores exemplos de um web crawler é o próprio google. Antes do site estar disponível para pesquisa, um robô lê o web site e cataloga as informações de forma a serem recuperadas numa busca futura.\r\n",
        "\r\n",
        "\r\n",
        "Para esse web scrapper dividi o script em funções específicas a fim de facilitar qualquer possível manutenção."
      ]
    },
    {
      "cell_type": "markdown",
      "metadata": {
        "id": "iFf9t3KR-YJA"
      },
      "source": [
        "### Connect to Target\r\n",
        "\r\n",
        "O Canal Kondizilla.:\r\n",
        "\r\n",
        "Muitos anos antes Konrad Dantas cresceu sonhando em trabalhar com música e, através dela, mudar sua realidade de garoto da periferia. Não imaginava que o sucesso que ira fazer. Mas somente quando Konrad se transformou no Kondzilla — o produtor musical que popularizou o funk ostentação no Brasil com videoclipes repletos de carros do ano, mansões e correntes de ouro. Ele construiu o maior canal de música do mundo no Youtube, com mais de 61 milhões de inscritos.\r\n",
        "\r\n",
        "Resolvi fazer esse scraper e utilizar o canal de target como uma forma de fixar o aprendizado e explorar o pouco mais da biblioteca Selenium."
      ]
    },
    {
      "cell_type": "markdown",
      "metadata": {
        "id": "bpKH31uHIgxF"
      },
      "source": [
        "#### Iniciando o Selenium no Colab"
      ]
    },
    {
      "cell_type": "code",
      "metadata": {
        "id": "2ciUi_0D1Rhh",
        "colab": {
          "base_uri": "https://localhost:8080/"
        },
        "outputId": "c20f4e84-cd23-4473-e478-473ef176e90f"
      },
      "source": [
        "!pip install selenium\r\n",
        "!apt-get update # to update ubuntu to correctly run apt install\r\n",
        "!apt install chromium-chromedriver\r\n",
        "!cp /usr/lib/chromium-browser/chromedriver /usr/bin\r\n",
        "import sys\r\n",
        "sys.path.insert(0,'/usr/lib/chromium-browser/chromedriver')\r\n",
        "from selenium import webdriver\r\n",
        "chrome_options = webdriver.ChromeOptions()\r\n",
        "chrome_options.add_argument('--headless')\r\n",
        "chrome_options.add_argument('--no-sandbox')\r\n",
        "chrome_options.add_argument('--disable-dev-shm-usage')\r\n",
        "wd = webdriver.Chrome('chromedriver',chrome_options=chrome_options)\r\n",
        "wd.implicitly_wait(10)"
      ],
      "execution_count": 1,
      "outputs": [
        {
          "output_type": "stream",
          "text": [
            "Collecting selenium\n",
            "\u001b[?25l  Downloading https://files.pythonhosted.org/packages/80/d6/4294f0b4bce4de0abf13e17190289f9d0613b0a44e5dd6a7f5ca98459853/selenium-3.141.0-py2.py3-none-any.whl (904kB)\n",
            "\r\u001b[K     |▍                               | 10kB 17.1MB/s eta 0:00:01\r\u001b[K     |▊                               | 20kB 21.5MB/s eta 0:00:01\r\u001b[K     |█                               | 30kB 11.5MB/s eta 0:00:01\r\u001b[K     |█▌                              | 40kB 9.0MB/s eta 0:00:01\r\u001b[K     |█▉                              | 51kB 4.3MB/s eta 0:00:01\r\u001b[K     |██▏                             | 61kB 4.9MB/s eta 0:00:01\r\u001b[K     |██▌                             | 71kB 5.1MB/s eta 0:00:01\r\u001b[K     |███                             | 81kB 5.3MB/s eta 0:00:01\r\u001b[K     |███▎                            | 92kB 5.7MB/s eta 0:00:01\r\u001b[K     |███▋                            | 102kB 6.0MB/s eta 0:00:01\r\u001b[K     |████                            | 112kB 6.0MB/s eta 0:00:01\r\u001b[K     |████▍                           | 122kB 6.0MB/s eta 0:00:01\r\u001b[K     |████▊                           | 133kB 6.0MB/s eta 0:00:01\r\u001b[K     |█████                           | 143kB 6.0MB/s eta 0:00:01\r\u001b[K     |█████▍                          | 153kB 6.0MB/s eta 0:00:01\r\u001b[K     |█████▉                          | 163kB 6.0MB/s eta 0:00:01\r\u001b[K     |██████▏                         | 174kB 6.0MB/s eta 0:00:01\r\u001b[K     |██████▌                         | 184kB 6.0MB/s eta 0:00:01\r\u001b[K     |██████▉                         | 194kB 6.0MB/s eta 0:00:01\r\u001b[K     |███████▎                        | 204kB 6.0MB/s eta 0:00:01\r\u001b[K     |███████▋                        | 215kB 6.0MB/s eta 0:00:01\r\u001b[K     |████████                        | 225kB 6.0MB/s eta 0:00:01\r\u001b[K     |████████▎                       | 235kB 6.0MB/s eta 0:00:01\r\u001b[K     |████████▊                       | 245kB 6.0MB/s eta 0:00:01\r\u001b[K     |█████████                       | 256kB 6.0MB/s eta 0:00:01\r\u001b[K     |█████████▍                      | 266kB 6.0MB/s eta 0:00:01\r\u001b[K     |█████████▉                      | 276kB 6.0MB/s eta 0:00:01\r\u001b[K     |██████████▏                     | 286kB 6.0MB/s eta 0:00:01\r\u001b[K     |██████████▌                     | 296kB 6.0MB/s eta 0:00:01\r\u001b[K     |██████████▉                     | 307kB 6.0MB/s eta 0:00:01\r\u001b[K     |███████████▎                    | 317kB 6.0MB/s eta 0:00:01\r\u001b[K     |███████████▋                    | 327kB 6.0MB/s eta 0:00:01\r\u001b[K     |████████████                    | 337kB 6.0MB/s eta 0:00:01\r\u001b[K     |████████████▎                   | 348kB 6.0MB/s eta 0:00:01\r\u001b[K     |████████████▊                   | 358kB 6.0MB/s eta 0:00:01\r\u001b[K     |█████████████                   | 368kB 6.0MB/s eta 0:00:01\r\u001b[K     |█████████████▍                  | 378kB 6.0MB/s eta 0:00:01\r\u001b[K     |█████████████▊                  | 389kB 6.0MB/s eta 0:00:01\r\u001b[K     |██████████████▏                 | 399kB 6.0MB/s eta 0:00:01\r\u001b[K     |██████████████▌                 | 409kB 6.0MB/s eta 0:00:01\r\u001b[K     |██████████████▉                 | 419kB 6.0MB/s eta 0:00:01\r\u001b[K     |███████████████▏                | 430kB 6.0MB/s eta 0:00:01\r\u001b[K     |███████████████▋                | 440kB 6.0MB/s eta 0:00:01\r\u001b[K     |████████████████                | 450kB 6.0MB/s eta 0:00:01\r\u001b[K     |████████████████▎               | 460kB 6.0MB/s eta 0:00:01\r\u001b[K     |████████████████▋               | 471kB 6.0MB/s eta 0:00:01\r\u001b[K     |█████████████████               | 481kB 6.0MB/s eta 0:00:01\r\u001b[K     |█████████████████▍              | 491kB 6.0MB/s eta 0:00:01\r\u001b[K     |█████████████████▊              | 501kB 6.0MB/s eta 0:00:01\r\u001b[K     |██████████████████▏             | 512kB 6.0MB/s eta 0:00:01\r\u001b[K     |██████████████████▌             | 522kB 6.0MB/s eta 0:00:01\r\u001b[K     |██████████████████▉             | 532kB 6.0MB/s eta 0:00:01\r\u001b[K     |███████████████████▏            | 542kB 6.0MB/s eta 0:00:01\r\u001b[K     |███████████████████▋            | 552kB 6.0MB/s eta 0:00:01\r\u001b[K     |████████████████████            | 563kB 6.0MB/s eta 0:00:01\r\u001b[K     |████████████████████▎           | 573kB 6.0MB/s eta 0:00:01\r\u001b[K     |████████████████████▋           | 583kB 6.0MB/s eta 0:00:01\r\u001b[K     |█████████████████████           | 593kB 6.0MB/s eta 0:00:01\r\u001b[K     |█████████████████████▍          | 604kB 6.0MB/s eta 0:00:01\r\u001b[K     |█████████████████████▊          | 614kB 6.0MB/s eta 0:00:01\r\u001b[K     |██████████████████████          | 624kB 6.0MB/s eta 0:00:01\r\u001b[K     |██████████████████████▌         | 634kB 6.0MB/s eta 0:00:01\r\u001b[K     |██████████████████████▉         | 645kB 6.0MB/s eta 0:00:01\r\u001b[K     |███████████████████████▏        | 655kB 6.0MB/s eta 0:00:01\r\u001b[K     |███████████████████████▌        | 665kB 6.0MB/s eta 0:00:01\r\u001b[K     |████████████████████████        | 675kB 6.0MB/s eta 0:00:01\r\u001b[K     |████████████████████████▎       | 686kB 6.0MB/s eta 0:00:01\r\u001b[K     |████████████████████████▋       | 696kB 6.0MB/s eta 0:00:01\r\u001b[K     |█████████████████████████       | 706kB 6.0MB/s eta 0:00:01\r\u001b[K     |█████████████████████████▍      | 716kB 6.0MB/s eta 0:00:01\r\u001b[K     |█████████████████████████▊      | 727kB 6.0MB/s eta 0:00:01\r\u001b[K     |██████████████████████████      | 737kB 6.0MB/s eta 0:00:01\r\u001b[K     |██████████████████████████▍     | 747kB 6.0MB/s eta 0:00:01\r\u001b[K     |██████████████████████████▉     | 757kB 6.0MB/s eta 0:00:01\r\u001b[K     |███████████████████████████▏    | 768kB 6.0MB/s eta 0:00:01\r\u001b[K     |███████████████████████████▌    | 778kB 6.0MB/s eta 0:00:01\r\u001b[K     |████████████████████████████    | 788kB 6.0MB/s eta 0:00:01\r\u001b[K     |████████████████████████████▎   | 798kB 6.0MB/s eta 0:00:01\r\u001b[K     |████████████████████████████▋   | 808kB 6.0MB/s eta 0:00:01\r\u001b[K     |█████████████████████████████   | 819kB 6.0MB/s eta 0:00:01\r\u001b[K     |█████████████████████████████▍  | 829kB 6.0MB/s eta 0:00:01\r\u001b[K     |█████████████████████████████▊  | 839kB 6.0MB/s eta 0:00:01\r\u001b[K     |██████████████████████████████  | 849kB 6.0MB/s eta 0:00:01\r\u001b[K     |██████████████████████████████▍ | 860kB 6.0MB/s eta 0:00:01\r\u001b[K     |██████████████████████████████▉ | 870kB 6.0MB/s eta 0:00:01\r\u001b[K     |███████████████████████████████▏| 880kB 6.0MB/s eta 0:00:01\r\u001b[K     |███████████████████████████████▌| 890kB 6.0MB/s eta 0:00:01\r\u001b[K     |███████████████████████████████▉| 901kB 6.0MB/s eta 0:00:01\r\u001b[K     |████████████████████████████████| 911kB 6.0MB/s \n",
            "\u001b[?25hRequirement already satisfied: urllib3 in /usr/local/lib/python3.6/dist-packages (from selenium) (1.24.3)\n",
            "Installing collected packages: selenium\n",
            "Successfully installed selenium-3.141.0\n",
            "Get:1 https://cloud.r-project.org/bin/linux/ubuntu bionic-cran40/ InRelease [3,626 B]\n",
            "Ign:2 https://developer.download.nvidia.com/compute/cuda/repos/ubuntu1804/x86_64  InRelease\n",
            "Get:3 http://security.ubuntu.com/ubuntu bionic-security InRelease [88.7 kB]\n",
            "Ign:4 https://developer.download.nvidia.com/compute/machine-learning/repos/ubuntu1804/x86_64  InRelease\n",
            "Hit:5 https://developer.download.nvidia.com/compute/cuda/repos/ubuntu1804/x86_64  Release\n",
            "Hit:6 https://developer.download.nvidia.com/compute/machine-learning/repos/ubuntu1804/x86_64  Release\n",
            "Get:7 http://ppa.launchpad.net/c2d4u.team/c2d4u4.0+/ubuntu bionic InRelease [15.9 kB]\n",
            "Hit:9 http://archive.ubuntu.com/ubuntu bionic InRelease\n",
            "Get:11 http://archive.ubuntu.com/ubuntu bionic-updates InRelease [88.7 kB]\n",
            "Hit:12 http://ppa.launchpad.net/cran/libgit2/ubuntu bionic InRelease\n",
            "Get:13 http://security.ubuntu.com/ubuntu bionic-security/main amd64 Packages [1,901 kB]\n",
            "Get:14 http://ppa.launchpad.net/graphics-drivers/ppa/ubuntu bionic InRelease [21.3 kB]\n",
            "Get:15 http://archive.ubuntu.com/ubuntu bionic-backports InRelease [74.6 kB]\n",
            "Get:16 http://archive.ubuntu.com/ubuntu bionic-updates/multiverse amd64 Packages [42.7 kB]\n",
            "Get:17 http://archive.ubuntu.com/ubuntu bionic-updates/main amd64 Packages [2,332 kB]\n",
            "Get:18 http://ppa.launchpad.net/c2d4u.team/c2d4u4.0+/ubuntu bionic/main Sources [1,718 kB]\n",
            "Get:19 http://security.ubuntu.com/ubuntu bionic-security/restricted amd64 Packages [288 kB]\n",
            "Get:20 http://security.ubuntu.com/ubuntu bionic-security/universe amd64 Packages [1,383 kB]\n",
            "Get:21 http://archive.ubuntu.com/ubuntu bionic-updates/universe amd64 Packages [2,153 kB]\n",
            "Get:22 http://archive.ubuntu.com/ubuntu bionic-updates/restricted amd64 Packages [318 kB]\n",
            "Get:23 http://ppa.launchpad.net/c2d4u.team/c2d4u4.0+/ubuntu bionic/main amd64 Packages [879 kB]\n",
            "Get:24 http://ppa.launchpad.net/graphics-drivers/ppa/ubuntu bionic/main amd64 Packages [49.2 kB]\n",
            "Fetched 11.4 MB in 7s (1,705 kB/s)\n",
            "Reading package lists... Done\n",
            "Reading package lists... Done\n",
            "Building dependency tree       \n",
            "Reading state information... Done\n",
            "The following additional packages will be installed:\n",
            "  chromium-browser chromium-browser-l10n chromium-codecs-ffmpeg-extra\n",
            "Suggested packages:\n",
            "  webaccounts-chromium-extension unity-chromium-extension adobe-flashplugin\n",
            "The following NEW packages will be installed:\n",
            "  chromium-browser chromium-browser-l10n chromium-chromedriver\n",
            "  chromium-codecs-ffmpeg-extra\n",
            "0 upgraded, 4 newly installed, 0 to remove and 46 not upgraded.\n",
            "Need to get 81.0 MB of archives.\n",
            "After this operation, 273 MB of additional disk space will be used.\n",
            "Get:1 http://archive.ubuntu.com/ubuntu bionic-updates/universe amd64 chromium-codecs-ffmpeg-extra amd64 87.0.4280.66-0ubuntu0.18.04.1 [1,122 kB]\n",
            "Get:2 http://archive.ubuntu.com/ubuntu bionic-updates/universe amd64 chromium-browser amd64 87.0.4280.66-0ubuntu0.18.04.1 [71.7 MB]\n",
            "Get:3 http://archive.ubuntu.com/ubuntu bionic-updates/universe amd64 chromium-browser-l10n all 87.0.4280.66-0ubuntu0.18.04.1 [3,716 kB]\n",
            "Get:4 http://archive.ubuntu.com/ubuntu bionic-updates/universe amd64 chromium-chromedriver amd64 87.0.4280.66-0ubuntu0.18.04.1 [4,488 kB]\n",
            "Fetched 81.0 MB in 9s (8,739 kB/s)\n",
            "Selecting previously unselected package chromium-codecs-ffmpeg-extra.\n",
            "(Reading database ... 146374 files and directories currently installed.)\n",
            "Preparing to unpack .../chromium-codecs-ffmpeg-extra_87.0.4280.66-0ubuntu0.18.04.1_amd64.deb ...\n",
            "Unpacking chromium-codecs-ffmpeg-extra (87.0.4280.66-0ubuntu0.18.04.1) ...\n",
            "Selecting previously unselected package chromium-browser.\n",
            "Preparing to unpack .../chromium-browser_87.0.4280.66-0ubuntu0.18.04.1_amd64.deb ...\n",
            "Unpacking chromium-browser (87.0.4280.66-0ubuntu0.18.04.1) ...\n",
            "Selecting previously unselected package chromium-browser-l10n.\n",
            "Preparing to unpack .../chromium-browser-l10n_87.0.4280.66-0ubuntu0.18.04.1_all.deb ...\n",
            "Unpacking chromium-browser-l10n (87.0.4280.66-0ubuntu0.18.04.1) ...\n",
            "Selecting previously unselected package chromium-chromedriver.\n",
            "Preparing to unpack .../chromium-chromedriver_87.0.4280.66-0ubuntu0.18.04.1_amd64.deb ...\n",
            "Unpacking chromium-chromedriver (87.0.4280.66-0ubuntu0.18.04.1) ...\n",
            "Setting up chromium-codecs-ffmpeg-extra (87.0.4280.66-0ubuntu0.18.04.1) ...\n",
            "Setting up chromium-browser (87.0.4280.66-0ubuntu0.18.04.1) ...\n",
            "update-alternatives: using /usr/bin/chromium-browser to provide /usr/bin/x-www-browser (x-www-browser) in auto mode\n",
            "update-alternatives: using /usr/bin/chromium-browser to provide /usr/bin/gnome-www-browser (gnome-www-browser) in auto mode\n",
            "Setting up chromium-chromedriver (87.0.4280.66-0ubuntu0.18.04.1) ...\n",
            "Setting up chromium-browser-l10n (87.0.4280.66-0ubuntu0.18.04.1) ...\n",
            "Processing triggers for hicolor-icon-theme (0.17-2) ...\n",
            "Processing triggers for mime-support (3.60ubuntu1) ...\n",
            "Processing triggers for man-db (2.8.3-2ubuntu0.1) ...\n",
            "cp: '/usr/lib/chromium-browser/chromedriver' and '/usr/bin/chromedriver' are the same file\n"
          ],
          "name": "stdout"
        },
        {
          "output_type": "stream",
          "text": [
            "/usr/local/lib/python3.6/dist-packages/ipykernel_launcher.py:12: DeprecationWarning: use options instead of chrome_options\n",
            "  if sys.path[0] == '':\n"
          ],
          "name": "stderr"
        }
      ]
    },
    {
      "cell_type": "code",
      "metadata": {
        "id": "rviC-ur84Kzo"
      },
      "source": [
        "# importando demais bibliotecas necessárias\r\n",
        "from selenium.webdriver.common.keys import Keys\r\n",
        "from selenium.webdriver.support.wait import WebDriverWait\r\n",
        "from selenium.webdriver.support import expected_conditions as EC\r\n",
        "from selenium.webdriver.common.by import By\r\n",
        "from bs4 import BeautifulSoup\r\n",
        "import pandas as pd\r\n",
        "import numpy as np\r\n",
        "import requests\r\n",
        "import datetime\r\n",
        "import time"
      ],
      "execution_count": 2,
      "outputs": []
    },
    {
      "cell_type": "code",
      "metadata": {
        "id": "nB4PTdc91nYc"
      },
      "source": [
        "# conectando ao site\r\n",
        "link = 'https://www.youtube.com/c/PortalKondZilla/videos'"
      ],
      "execution_count": 75,
      "outputs": []
    },
    {
      "cell_type": "code",
      "metadata": {
        "id": "dKzkobV6JO3y"
      },
      "source": [
        "def get_data(link):\r\n",
        "\r\n",
        "  \"\"\"\r\n",
        "  essa função mapeia o canal alvo e retorna os videos listados\r\n",
        "  entrada: link para o alvo\r\n",
        "  saída: lista de com videos do canal\r\n",
        "  \"\"\"\r\n",
        "  response = requests.get(link)\r\n",
        "  if response.status_code != 200:\r\n",
        "    raise RuntimeError(f'Houve um erro de conexão. Cód: {response.status_code}')\r\n",
        "\r\n",
        "  # conectando ao site\r\n",
        "  wd.get(link)\r\n",
        "\r\n",
        "  #navegando até o final da página\r\n",
        "  for _ in range(56):\r\n",
        "    wd.find_element_by_tag_name('body').send_keys(Keys.END)\r\n",
        "\r\n",
        "  #obtendo dados do site:\r\n",
        "  html = wd.page_source\r\n",
        "  soup = BeautifulSoup(html, 'html.parser')\r\n",
        "  videos = soup.find_all('div', {\"id\": \"dismissable\"})\r\n",
        "\r\n",
        "  return videos"
      ],
      "execution_count": 76,
      "outputs": []
    },
    {
      "cell_type": "code",
      "metadata": {
        "id": "r9vKWpK9KvC9"
      },
      "source": [
        "videos = get_data(link)"
      ],
      "execution_count": 77,
      "outputs": []
    },
    {
      "cell_type": "code",
      "metadata": {
        "colab": {
          "base_uri": "https://localhost:8080/"
        },
        "id": "ea5c8kjv44eQ",
        "outputId": "4265da6e-9a02-4109-f08e-824fbc771ccc"
      },
      "source": [
        "# checado a quantidade de itens armazenados\r\n",
        "len(videos)"
      ],
      "execution_count": 78,
      "outputs": [
        {
          "output_type": "execute_result",
          "data": {
            "text/plain": [
              "270"
            ]
          },
          "metadata": {
            "tags": []
          },
          "execution_count": 78
        }
      ]
    },
    {
      "cell_type": "markdown",
      "metadata": {
        "id": "uGcMkZ9d--yf"
      },
      "source": [
        "### Obtendo metadados do canal"
      ]
    },
    {
      "cell_type": "code",
      "metadata": {
        "id": "0t_rWIsm6OLm"
      },
      "source": [
        "# obtendo metadados\r\n",
        "\r\n",
        "meta_list = []\r\n",
        "\r\n",
        "for video in videos:\r\n",
        "  meta_d = {}\r\n",
        "  meta_d['title'] = video.find('a', {'id': 'video-title'}).text\r\n",
        "  meta_d['link'] = \"https://www.youtube.com/\" + video.find('a', {'id': 'video-title'})['href']\r\n",
        "  meta = video.find('div', {'id': 'metadata-line'}).find_all('span')\r\n",
        "  meta_d['vis'] = meta[0].text\r\n",
        "  meta_d['publ'] = meta[1].text\r\n",
        "  meta_list.append(meta_d)\r\n",
        "  "
      ],
      "execution_count": 79,
      "outputs": []
    },
    {
      "cell_type": "code",
      "metadata": {
        "colab": {
          "base_uri": "https://localhost:8080/",
          "height": 417
        },
        "id": "fHCkHR-66axr",
        "outputId": "06ef3aeb-aad4-4997-dc80-789e2350755a"
      },
      "source": [
        "# Convertendo para um Pandas DataFrame\r\n",
        "df = pd.DataFrame(meta_list)\r\n",
        "df"
      ],
      "execution_count": 80,
      "outputs": [
        {
          "output_type": "execute_result",
          "data": {
            "text/html": [
              "<div>\n",
              "<style scoped>\n",
              "    .dataframe tbody tr th:only-of-type {\n",
              "        vertical-align: middle;\n",
              "    }\n",
              "\n",
              "    .dataframe tbody tr th {\n",
              "        vertical-align: top;\n",
              "    }\n",
              "\n",
              "    .dataframe thead th {\n",
              "        text-align: right;\n",
              "    }\n",
              "</style>\n",
              "<table border=\"1\" class=\"dataframe\">\n",
              "  <thead>\n",
              "    <tr style=\"text-align: right;\">\n",
              "      <th></th>\n",
              "      <th>title</th>\n",
              "      <th>link</th>\n",
              "      <th>vis</th>\n",
              "      <th>publ</th>\n",
              "    </tr>\n",
              "  </thead>\n",
              "  <tbody>\n",
              "    <tr>\n",
              "      <th>0</th>\n",
              "      <td>MC Kekel e Niack - É Funk ou Pagode? (KondZilla)</td>\n",
              "      <td>https://www.youtube.com//watch?v=iyMP3bw3oDk</td>\n",
              "      <td>1.3K views</td>\n",
              "      <td>2 hours ago</td>\n",
              "    </tr>\n",
              "    <tr>\n",
              "      <th>1</th>\n",
              "      <td>HERvolution - A Revolução das Minas Na Cena (K...</td>\n",
              "      <td>https://www.youtube.com//watch?v=gGnEcNiZzVs</td>\n",
              "      <td>1.5K views</td>\n",
              "      <td>1 day ago</td>\n",
              "    </tr>\n",
              "    <tr>\n",
              "      <th>2</th>\n",
              "      <td>Curiosidades com Vulgo FK: Revoada Com MC Kevi...</td>\n",
              "      <td>https://www.youtube.com//watch?v=A3lsa0Ge-xk</td>\n",
              "      <td>10K views</td>\n",
              "      <td>2 days ago</td>\n",
              "    </tr>\n",
              "    <tr>\n",
              "      <th>3</th>\n",
              "      <td>Como Retomar Os Estudos Na Fase Adulta? - Kond...</td>\n",
              "      <td>https://www.youtube.com//watch?v=DvUY4clvah0</td>\n",
              "      <td>91K views</td>\n",
              "      <td>5 days ago</td>\n",
              "    </tr>\n",
              "    <tr>\n",
              "      <th>4</th>\n",
              "      <td>#TodosPelasVacinas com MC Fioti - Vai Com o Bu...</td>\n",
              "      <td>https://www.youtube.com//watch?v=OT7M291OAXw</td>\n",
              "      <td>81K views</td>\n",
              "      <td>6 days ago</td>\n",
              "    </tr>\n",
              "    <tr>\n",
              "      <th>...</th>\n",
              "      <td>...</td>\n",
              "      <td>...</td>\n",
              "      <td>...</td>\n",
              "      <td>...</td>\n",
              "    </tr>\n",
              "    <tr>\n",
              "      <th>265</th>\n",
              "      <td>Como Dançar Os Passinhos De Funk Com NGKS? (ko...</td>\n",
              "      <td>https://www.youtube.com//watch?v=7ZYSjZjCsbU</td>\n",
              "      <td>41K views</td>\n",
              "      <td>1 year ago</td>\n",
              "    </tr>\n",
              "    <tr>\n",
              "      <th>266</th>\n",
              "      <td>Empreendedores Da Quebrada - David Doces (kond...</td>\n",
              "      <td>https://www.youtube.com//watch?v=AnRBHTqoObw</td>\n",
              "      <td>2.5M views</td>\n",
              "      <td>1 year ago</td>\n",
              "    </tr>\n",
              "    <tr>\n",
              "      <th>267</th>\n",
              "      <td>Amor pelo Futebol de Várzea (kondzilla.com)</td>\n",
              "      <td>https://www.youtube.com//watch?v=0xR1x1S6d0k</td>\n",
              "      <td>12K views</td>\n",
              "      <td>1 year ago</td>\n",
              "    </tr>\n",
              "    <tr>\n",
              "      <th>268</th>\n",
              "      <td>Origem MC - Conheça A Origem Do Movimento (kon...</td>\n",
              "      <td>https://www.youtube.com//watch?v=HocYcDqeqbk</td>\n",
              "      <td>8.7K views</td>\n",
              "      <td>1 year ago</td>\n",
              "    </tr>\n",
              "    <tr>\n",
              "      <th>269</th>\n",
              "      <td>Baile da Gaiola LGBT+  com DJ Rennan da Penha ...</td>\n",
              "      <td>https://www.youtube.com//watch?v=BRQrvtgW22o</td>\n",
              "      <td>26K views</td>\n",
              "      <td>1 year ago</td>\n",
              "    </tr>\n",
              "  </tbody>\n",
              "</table>\n",
              "<p>270 rows × 4 columns</p>\n",
              "</div>"
            ],
            "text/plain": [
              "                                                 title  ...         publ\n",
              "0     MC Kekel e Niack - É Funk ou Pagode? (KondZilla)  ...  2 hours ago\n",
              "1    HERvolution - A Revolução das Minas Na Cena (K...  ...    1 day ago\n",
              "2    Curiosidades com Vulgo FK: Revoada Com MC Kevi...  ...   2 days ago\n",
              "3    Como Retomar Os Estudos Na Fase Adulta? - Kond...  ...   5 days ago\n",
              "4    #TodosPelasVacinas com MC Fioti - Vai Com o Bu...  ...   6 days ago\n",
              "..                                                 ...  ...          ...\n",
              "265  Como Dançar Os Passinhos De Funk Com NGKS? (ko...  ...   1 year ago\n",
              "266  Empreendedores Da Quebrada - David Doces (kond...  ...   1 year ago\n",
              "267        Amor pelo Futebol de Várzea (kondzilla.com)  ...   1 year ago\n",
              "268  Origem MC - Conheça A Origem Do Movimento (kon...  ...   1 year ago\n",
              "269  Baile da Gaiola LGBT+  com DJ Rennan da Penha ...  ...   1 year ago\n",
              "\n",
              "[270 rows x 4 columns]"
            ]
          },
          "metadata": {
            "tags": []
          },
          "execution_count": 80
        }
      ]
    },
    {
      "cell_type": "markdown",
      "metadata": {
        "id": "Og0Wlax__Fvm"
      },
      "source": [
        "### Tratando dados"
      ]
    },
    {
      "cell_type": "code",
      "metadata": {
        "id": "T0hUlvVv7ND2"
      },
      "source": [
        "def converter_vis(df):\r\n",
        "  \"\"\" essa funcão converte os dados da coluna visualizações e subsititui as strings por números\r\n",
        "  entrada: dataframe com a coluna['vis']\r\n",
        "  processamento: recebe os dados da coluna e com base nas confições faz a substituição\r\n",
        "  saída: dados tratados e devem ser atribuídos a uma nova coluna\r\n",
        "  \"\"\"\r\n",
        "  if 'K' in df['vis']:\r\n",
        "    k_views = float(df['vis'].split('K')[0])*1000\r\n",
        "    return k_views\r\n",
        "  elif 'M' in df['vis']:\r\n",
        "    m_views = float(df['vis'].split('M')[0])*1000000\r\n",
        "    return m_views\r\n",
        "  else:\r\n",
        "    views = float(df['vis'].split(' ')[0])\r\n",
        "    return views"
      ],
      "execution_count": 81,
      "outputs": []
    },
    {
      "cell_type": "code",
      "metadata": {
        "id": "gRMjcDp8APdx"
      },
      "source": [
        "# Convertendo a visualização para inteiros\r\n",
        "df['vis_conv'] = df.apply(converter_vis, axis=1)\r\n",
        "df['vis_conv'] = df['vis_conv'].astype(int)"
      ],
      "execution_count": 82,
      "outputs": []
    },
    {
      "cell_type": "code",
      "metadata": {
        "id": "SHseXmyQzVBX"
      },
      "source": [
        "df['title'] = df['title'].astype(str)\r\n",
        "df['publ'] = df['publ'].astype(str)"
      ],
      "execution_count": 83,
      "outputs": []
    },
    {
      "cell_type": "code",
      "metadata": {
        "colab": {
          "base_uri": "https://localhost:8080/",
          "height": 203
        },
        "id": "ao6o_0hJA-8C",
        "outputId": "72bc8c46-a4f3-45d8-c459-f509bd576f61"
      },
      "source": [
        "df.head()"
      ],
      "execution_count": 84,
      "outputs": [
        {
          "output_type": "execute_result",
          "data": {
            "text/html": [
              "<div>\n",
              "<style scoped>\n",
              "    .dataframe tbody tr th:only-of-type {\n",
              "        vertical-align: middle;\n",
              "    }\n",
              "\n",
              "    .dataframe tbody tr th {\n",
              "        vertical-align: top;\n",
              "    }\n",
              "\n",
              "    .dataframe thead th {\n",
              "        text-align: right;\n",
              "    }\n",
              "</style>\n",
              "<table border=\"1\" class=\"dataframe\">\n",
              "  <thead>\n",
              "    <tr style=\"text-align: right;\">\n",
              "      <th></th>\n",
              "      <th>title</th>\n",
              "      <th>link</th>\n",
              "      <th>vis</th>\n",
              "      <th>publ</th>\n",
              "      <th>vis_conv</th>\n",
              "    </tr>\n",
              "  </thead>\n",
              "  <tbody>\n",
              "    <tr>\n",
              "      <th>0</th>\n",
              "      <td>MC Kekel e Niack - É Funk ou Pagode? (KondZilla)</td>\n",
              "      <td>https://www.youtube.com//watch?v=iyMP3bw3oDk</td>\n",
              "      <td>1.3K views</td>\n",
              "      <td>2 hours ago</td>\n",
              "      <td>1300</td>\n",
              "    </tr>\n",
              "    <tr>\n",
              "      <th>1</th>\n",
              "      <td>HERvolution - A Revolução das Minas Na Cena (K...</td>\n",
              "      <td>https://www.youtube.com//watch?v=gGnEcNiZzVs</td>\n",
              "      <td>1.5K views</td>\n",
              "      <td>1 day ago</td>\n",
              "      <td>1500</td>\n",
              "    </tr>\n",
              "    <tr>\n",
              "      <th>2</th>\n",
              "      <td>Curiosidades com Vulgo FK: Revoada Com MC Kevi...</td>\n",
              "      <td>https://www.youtube.com//watch?v=A3lsa0Ge-xk</td>\n",
              "      <td>10K views</td>\n",
              "      <td>2 days ago</td>\n",
              "      <td>10000</td>\n",
              "    </tr>\n",
              "    <tr>\n",
              "      <th>3</th>\n",
              "      <td>Como Retomar Os Estudos Na Fase Adulta? - Kond...</td>\n",
              "      <td>https://www.youtube.com//watch?v=DvUY4clvah0</td>\n",
              "      <td>91K views</td>\n",
              "      <td>5 days ago</td>\n",
              "      <td>91000</td>\n",
              "    </tr>\n",
              "    <tr>\n",
              "      <th>4</th>\n",
              "      <td>#TodosPelasVacinas com MC Fioti - Vai Com o Bu...</td>\n",
              "      <td>https://www.youtube.com//watch?v=OT7M291OAXw</td>\n",
              "      <td>81K views</td>\n",
              "      <td>6 days ago</td>\n",
              "      <td>81000</td>\n",
              "    </tr>\n",
              "  </tbody>\n",
              "</table>\n",
              "</div>"
            ],
            "text/plain": [
              "                                               title  ... vis_conv\n",
              "0   MC Kekel e Niack - É Funk ou Pagode? (KondZilla)  ...     1300\n",
              "1  HERvolution - A Revolução das Minas Na Cena (K...  ...     1500\n",
              "2  Curiosidades com Vulgo FK: Revoada Com MC Kevi...  ...    10000\n",
              "3  Como Retomar Os Estudos Na Fase Adulta? - Kond...  ...    91000\n",
              "4  #TodosPelasVacinas com MC Fioti - Vai Com o Bu...  ...    81000\n",
              "\n",
              "[5 rows x 5 columns]"
            ]
          },
          "metadata": {
            "tags": []
          },
          "execution_count": 84
        }
      ]
    },
    {
      "cell_type": "markdown",
      "metadata": {
        "id": "yr8Reku5LOWJ"
      },
      "source": [
        "## Alguns Insights\r\n",
        "\r\n",
        "Até essa etapa obtivemos uma quantidade razoável de dados, vamos observar alguns dados."
      ]
    },
    {
      "cell_type": "code",
      "metadata": {
        "colab": {
          "base_uri": "https://localhost:8080/"
        },
        "id": "vf2b2GXJG1aE",
        "outputId": "a614ea4e-43c0-494d-c76d-99818b90e505"
      },
      "source": [
        "print('O total de publicações no canal são {} vídeos.' .format(len(df)))"
      ],
      "execution_count": 85,
      "outputs": [
        {
          "output_type": "stream",
          "text": [
            "O total de publicações no canal são 270 vídeos.\n"
          ],
          "name": "stdout"
        }
      ]
    },
    {
      "cell_type": "code",
      "metadata": {
        "colab": {
          "base_uri": "https://localhost:8080/"
        },
        "id": "OF4ynokzDZO1",
        "outputId": "17169531-f1f7-4c19-f95a-0476079f7ac7"
      },
      "source": [
        "# podemos obter o total de visualizações do canal:\r\n",
        "out_sum = df['vis_conv'].sum()\r\n",
        "print('A soma total de visualizações é {:,}.' .format(out_sum))"
      ],
      "execution_count": 86,
      "outputs": [
        {
          "output_type": "stream",
          "text": [
            "A soma total de visualizações é 45,639,000.\n"
          ],
          "name": "stdout"
        }
      ]
    },
    {
      "cell_type": "code",
      "metadata": {
        "id": "6-CarO1cMP_X",
        "colab": {
          "base_uri": "https://localhost:8080/"
        },
        "outputId": "fc7618cf-2bad-4ee2-951c-ad626ee68e14"
      },
      "source": [
        "# obter os metadados do vídeo mais visualizado\r\n",
        "out_max = df.loc[df['vis_conv'] == df['vis_conv'].max()]\r\n",
        "\r\n",
        "# obtendo o título\r\n",
        "title_max  = out_max['title'].values[0]\r\n",
        "# obtendo a data de publicação\r\n",
        "publ_max = out_max['publ'].values[0]\r\n",
        "\r\n",
        "# retornando informações\r\n",
        "print('O vídeo mais visualizado foi: {}'.format(title_max))\r\n",
        "print('O vídeo mais visualizado foi publicado em {}'. format(publ_max))"
      ],
      "execution_count": 28,
      "outputs": [
        {
          "output_type": "stream",
          "text": [
            "O vídeo mais visualizado foi: Dadá Boladão, Tati Zaqui feat OIK - Surtada Remix BregaFunk (kondzilla.com) | Official Music Video\n",
            "O vídeo mais visualizado foi publicado em 1 year ago\n"
          ],
          "name": "stdout"
        }
      ]
    },
    {
      "cell_type": "markdown",
      "metadata": {
        "id": "LE_BDrnP0blG"
      },
      "source": [
        "## Obtendo informações por Vídeo  e Melhorando os Metadados\r\n",
        "\r\n",
        "Algumas informações estão truncadas (visualizações = X K views) ou mesmo misturadas ( data de publicação: X days ago).\r\n",
        "\r\n",
        "Procurando um pouco mais, podemos obter esses metadados acessando o link de cada vídeo e obter informações mais precisas.\r\n",
        "\r\n",
        "O link já temos, mas como fazemos para obter esses metadados??\r\n",
        "\r\n",
        "vamos aos passos."
      ]
    },
    {
      "cell_type": "code",
      "metadata": {
        "colab": {
          "base_uri": "https://localhost:8080/"
        },
        "id": "xGdWLcMeyJb3",
        "outputId": "2bd5dd61-6621-4906-c59f-f398f0ab4c93"
      },
      "source": [
        "# os links podem ser obtidos na variável (coluna) link:\r\n",
        "df['link'].head()"
      ],
      "execution_count": 29,
      "outputs": [
        {
          "output_type": "execute_result",
          "data": {
            "text/plain": [
              "0    https://www.youtube.com//watch?v=ufWTBoT-SOw\n",
              "1    https://www.youtube.com//watch?v=wehFUSHNP3k\n",
              "2    https://www.youtube.com//watch?v=euJjRBg4gqo\n",
              "3    https://www.youtube.com//watch?v=k4cg3bavDTY\n",
              "4    https://www.youtube.com//watch?v=7XfIyw0V-hU\n",
              "Name: link, dtype: object"
            ]
          },
          "metadata": {
            "tags": []
          },
          "execution_count": 29
        }
      ]
    },
    {
      "cell_type": "code",
      "metadata": {
        "colab": {
          "base_uri": "https://localhost:8080/"
        },
        "id": "z0O14II9KwR9",
        "outputId": "e84a62a9-6c5d-412f-c699-838559242b38"
      },
      "source": [
        "lista_links = df['link'].values\r\n",
        "len(lista_links)"
      ],
      "execution_count": 30,
      "outputs": [
        {
          "output_type": "execute_result",
          "data": {
            "text/plain": [
              "690"
            ]
          },
          "metadata": {
            "tags": []
          },
          "execution_count": 30
        }
      ]
    },
    {
      "cell_type": "code",
      "metadata": {
        "id": "WKeovmhs1kME",
        "colab": {
          "base_uri": "https://localhost:8080/",
          "height": 238
        },
        "outputId": "8c212a6b-485b-4250-82e9-c2f23b9c19c8"
      },
      "source": [
        "meta_videos = []\r\n",
        "for url in lista_links:\r\n",
        "  meta_v = {}\r\n",
        "  # apenas para aguadar o site carregar as informações\r\n",
        "  wd.set_page_load_timeout(30)\r\n",
        "  wd.get(url)\r\n",
        "  wd.execute_script(\"window.scrollTo(0, document.body.scrollHeight);\")\r\n",
        "  #element = WebDriverWait(wd, 30).until(EC.presence_of_element_located((By.ID, \"info-contents\")))\r\n",
        "  #element = WebDriverWait(wd, 30).until(EC.presence_of_element_located((By.ID, \"comments\")))\r\n",
        "  \r\n",
        "\r\n",
        "  video_html = wd.page_source\r\n",
        "  soup = BeautifulSoup(video_html, 'html.parser')\r\n",
        "  meta_v['video_vis'] = int(soup.find('span', {'class': 'view-count'}).text.split()[0].replace(',', ''))\r\n",
        "  meta_v['data'] = soup.find('div', {'id': 'date'}).text.replace('•', '').replace(',', '')\r\n",
        "  meta_v['curtidas'] = soup.find('a',{'class': 'yt-simple-endpoint style-scope ytd-toggle-button-renderer'}).text\r\n",
        "  meta_videos.append(meta_v)\r\n",
        "wd.quit()"
      ],
      "execution_count": 31,
      "outputs": [
        {
          "output_type": "error",
          "ename": "AttributeError",
          "evalue": "ignored",
          "traceback": [
            "\u001b[0;31m---------------------------------------------------------------------------\u001b[0m",
            "\u001b[0;31mAttributeError\u001b[0m                            Traceback (most recent call last)",
            "\u001b[0;32m<ipython-input-31-f819b5697a70>\u001b[0m in \u001b[0;36m<module>\u001b[0;34m()\u001b[0m\n\u001b[1;32m     12\u001b[0m   \u001b[0mvideo_html\u001b[0m \u001b[0;34m=\u001b[0m \u001b[0mwd\u001b[0m\u001b[0;34m.\u001b[0m\u001b[0mpage_source\u001b[0m\u001b[0;34m\u001b[0m\u001b[0;34m\u001b[0m\u001b[0m\n\u001b[1;32m     13\u001b[0m   \u001b[0msoup\u001b[0m \u001b[0;34m=\u001b[0m \u001b[0mBeautifulSoup\u001b[0m\u001b[0;34m(\u001b[0m\u001b[0mvideo_html\u001b[0m\u001b[0;34m,\u001b[0m \u001b[0;34m'html.parser'\u001b[0m\u001b[0;34m)\u001b[0m\u001b[0;34m\u001b[0m\u001b[0;34m\u001b[0m\u001b[0m\n\u001b[0;32m---> 14\u001b[0;31m   \u001b[0mmeta_v\u001b[0m\u001b[0;34m[\u001b[0m\u001b[0;34m'video_vis'\u001b[0m\u001b[0;34m]\u001b[0m \u001b[0;34m=\u001b[0m \u001b[0mint\u001b[0m\u001b[0;34m(\u001b[0m\u001b[0msoup\u001b[0m\u001b[0;34m.\u001b[0m\u001b[0mfind\u001b[0m\u001b[0;34m(\u001b[0m\u001b[0;34m'span'\u001b[0m\u001b[0;34m,\u001b[0m \u001b[0;34m{\u001b[0m\u001b[0;34m'class'\u001b[0m\u001b[0;34m:\u001b[0m \u001b[0;34m'view-count'\u001b[0m\u001b[0;34m}\u001b[0m\u001b[0;34m)\u001b[0m\u001b[0;34m.\u001b[0m\u001b[0mtext\u001b[0m\u001b[0;34m.\u001b[0m\u001b[0msplit\u001b[0m\u001b[0;34m(\u001b[0m\u001b[0;34m)\u001b[0m\u001b[0;34m[\u001b[0m\u001b[0;36m0\u001b[0m\u001b[0;34m]\u001b[0m\u001b[0;34m.\u001b[0m\u001b[0mreplace\u001b[0m\u001b[0;34m(\u001b[0m\u001b[0;34m','\u001b[0m\u001b[0;34m,\u001b[0m \u001b[0;34m''\u001b[0m\u001b[0;34m)\u001b[0m\u001b[0;34m)\u001b[0m\u001b[0;34m\u001b[0m\u001b[0;34m\u001b[0m\u001b[0m\n\u001b[0m\u001b[1;32m     15\u001b[0m   \u001b[0mmeta_v\u001b[0m\u001b[0;34m[\u001b[0m\u001b[0;34m'data'\u001b[0m\u001b[0;34m]\u001b[0m \u001b[0;34m=\u001b[0m \u001b[0msoup\u001b[0m\u001b[0;34m.\u001b[0m\u001b[0mfind\u001b[0m\u001b[0;34m(\u001b[0m\u001b[0;34m'div'\u001b[0m\u001b[0;34m,\u001b[0m \u001b[0;34m{\u001b[0m\u001b[0;34m'id'\u001b[0m\u001b[0;34m:\u001b[0m \u001b[0;34m'date'\u001b[0m\u001b[0;34m}\u001b[0m\u001b[0;34m)\u001b[0m\u001b[0;34m.\u001b[0m\u001b[0mtext\u001b[0m\u001b[0;34m.\u001b[0m\u001b[0mreplace\u001b[0m\u001b[0;34m(\u001b[0m\u001b[0;34m'•'\u001b[0m\u001b[0;34m,\u001b[0m \u001b[0;34m''\u001b[0m\u001b[0;34m)\u001b[0m\u001b[0;34m.\u001b[0m\u001b[0mreplace\u001b[0m\u001b[0;34m(\u001b[0m\u001b[0;34m','\u001b[0m\u001b[0;34m,\u001b[0m \u001b[0;34m''\u001b[0m\u001b[0;34m)\u001b[0m\u001b[0;34m\u001b[0m\u001b[0;34m\u001b[0m\u001b[0m\n\u001b[1;32m     16\u001b[0m   \u001b[0mmeta_v\u001b[0m\u001b[0;34m[\u001b[0m\u001b[0;34m'curtidas'\u001b[0m\u001b[0;34m]\u001b[0m \u001b[0;34m=\u001b[0m \u001b[0msoup\u001b[0m\u001b[0;34m.\u001b[0m\u001b[0mfind\u001b[0m\u001b[0;34m(\u001b[0m\u001b[0;34m'a'\u001b[0m\u001b[0;34m,\u001b[0m\u001b[0;34m{\u001b[0m\u001b[0;34m'class'\u001b[0m\u001b[0;34m:\u001b[0m \u001b[0;34m'yt-simple-endpoint style-scope ytd-toggle-button-renderer'\u001b[0m\u001b[0;34m}\u001b[0m\u001b[0;34m)\u001b[0m\u001b[0;34m.\u001b[0m\u001b[0mtext\u001b[0m\u001b[0;34m\u001b[0m\u001b[0;34m\u001b[0m\u001b[0m\n",
            "\u001b[0;31mAttributeError\u001b[0m: 'NoneType' object has no attribute 'text'"
          ]
        }
      ]
    },
    {
      "cell_type": "code",
      "metadata": {
        "id": "AV-lDtCAb6Ni"
      },
      "source": [
        "len(meta_videos)"
      ],
      "execution_count": null,
      "outputs": []
    },
    {
      "cell_type": "code",
      "metadata": {
        "id": "DJSFTxEDLCeA"
      },
      "source": [
        "lista_links[0]"
      ],
      "execution_count": null,
      "outputs": []
    },
    {
      "cell_type": "code",
      "metadata": {
        "id": "0z9J9XYOgGAm"
      },
      "source": [
        "wd.get(lista_links[2])"
      ],
      "execution_count": null,
      "outputs": []
    },
    {
      "cell_type": "code",
      "metadata": {
        "id": "ash1fdSv1xGN"
      },
      "source": [
        "video_html = wd.page_source"
      ],
      "execution_count": null,
      "outputs": []
    },
    {
      "cell_type": "code",
      "metadata": {
        "id": "ZWED_MYS2QMk"
      },
      "source": [
        "soup = BeautifulSoup(video_html, 'html.parser')"
      ],
      "execution_count": null,
      "outputs": []
    },
    {
      "cell_type": "code",
      "metadata": {
        "id": "g6fZWiafmVCH"
      },
      "source": [
        "soup"
      ],
      "execution_count": null,
      "outputs": []
    },
    {
      "cell_type": "markdown",
      "metadata": {
        "id": "Eey1ieBIiejP"
      },
      "source": [
        "Como suspeitava o youtube está bloqueando o acesso por estar fora da política (acessos automatizados)"
      ]
    },
    {
      "cell_type": "code",
      "metadata": {
        "id": "u7hxQCtKLOVe"
      },
      "source": [
        "soup.find('div', {'id': 'count '})"
      ],
      "execution_count": null,
      "outputs": []
    },
    {
      "cell_type": "code",
      "metadata": {
        "id": "59U_Cys22Tl6"
      },
      "source": [
        "video_vis = int(soup.find('span', {'class': 'view-count'}).text.split()[0].replace(',', ''))\r\n",
        "video_vis"
      ],
      "execution_count": null,
      "outputs": []
    },
    {
      "cell_type": "code",
      "metadata": {
        "id": "1sQKmwKl7kZc"
      },
      "source": [
        "date = soup.find('div', {'id': 'date'}).text.replace('•', '').replace(',', '').replace('Premieres ', '')\r\n",
        "date = datetime.datetime.strptime(date, '%b %d %Y')\r\n",
        "string_date = date.strftime('%Y-%b-%d')\r\n",
        "string_date"
      ],
      "execution_count": null,
      "outputs": []
    },
    {
      "cell_type": "code",
      "metadata": {
        "id": "o4L47qoxDeLR"
      },
      "source": [
        "curtidas = int(soup.find('a',{'class': 'yt-simple-endpoint style-scope ytd-toggle-button-renderer'}).text)\r\n",
        "curtidas"
      ],
      "execution_count": null,
      "outputs": []
    },
    {
      "cell_type": "code",
      "metadata": {
        "id": "6xkjTAaT-MUN"
      },
      "source": [
        "soup.find_all('h2')"
      ],
      "execution_count": null,
      "outputs": []
    },
    {
      "cell_type": "code",
      "metadata": {
        "id": "uwzEp6nIH31D"
      },
      "source": [
        "<h2 id=\"count\" class=\"style-scope ytd-comments-header-renderer\">\r\n",
        "    <yt-formatted-string class=\"count-text style-scope ytd-comments-header-renderer\">67 comentários</yt-formatted-string>\r\n",
        "  </h2>"
      ],
      "execution_count": null,
      "outputs": []
    },
    {
      "cell_type": "markdown",
      "metadata": {
        "id": "ThCVdwg5mKyw"
      },
      "source": [
        "Para contornar a situação debloqueio de acesso ao Youtube vamos utilizar a própria API Data do Youtube."
      ]
    },
    {
      "cell_type": "markdown",
      "metadata": {
        "id": "yf7dEL9bmTN3"
      },
      "source": [
        "# YouTube API Data\r\n",
        "\r\n",
        "Como visto anteriormente o YouTube restringe acessos automatizados a fim de evitar a sobre carga nos servidores.\r\n",
        "\r\n",
        "Entrentado é possível acessar os dados estatísticos de cada vídeo utilizando a própria API do site.\r\n",
        "\r\n",
        "\r\n",
        "Para criar o acesso a sua API do YouTube será necessários acessar o console de desenvolvedor, [link](https://console.developers.google.com/). Uma vez que você tenha feito login na conta, será necessário criar um novo projeto e requisitar a utilização da API do YouTube. \r\n",
        "\r\n",
        "Para utilizar essa API será necessário criar uma credencial. Como estamos trabalhando no Google Colab e esse projeto será enviado para o o GitHub, optei por salvar a API em um arquivo .txt e solicitar ao Colab que faça a leitura dessa arquivo. Assim a chave da credencial não fica exposta. \r\n",
        "\r\n",
        "No meu caso eu criei o arquivo `API-Youtube.txt`  assim fica mais fácil de lembrar.\r\n",
        "\r\n",
        "Para saber mais sobre a API você também pode consultar a [documentação oficial](https://github.com/googleapis/google-api-python-client)."
      ]
    },
    {
      "cell_type": "markdown",
      "metadata": {
        "id": "r9huStWxf36E"
      },
      "source": [
        "## Criando acessos e autenticações"
      ]
    },
    {
      "cell_type": "code",
      "metadata": {
        "colab": {
          "resources": {
            "http://localhost:8080/nbextensions/google.colab/files.js": {
              "data": "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",
              "ok": true,
              "headers": [
                [
                  "content-type",
                  "application/javascript"
                ]
              ],
              "status": 200,
              "status_text": ""
            }
          },
          "base_uri": "https://localhost:8080/",
          "height": 91
        },
        "id": "Jlr0jN0KnGUY",
        "outputId": "7aed50dd-107e-44fc-ae87-71f15af2b730"
      },
      "source": [
        "from google.colab import files\r\n",
        "\r\n",
        "uploaded = files.upload()\r\n",
        "\r\n",
        "for fn in uploaded.keys():\r\n",
        "  print('User uploaded file \"{name}\" with length {length} bytes'.format(\r\n",
        "      name=fn, length=len(uploaded[fn])))\r\n",
        "  with open(fn) as f:\r\n",
        "        api_key = f.read()"
      ],
      "execution_count": 33,
      "outputs": [
        {
          "output_type": "display_data",
          "data": {
            "text/html": [
              "\n",
              "     <input type=\"file\" id=\"files-d1a23697-75b2-4a4c-bd52-a16746579fcd\" name=\"files[]\" multiple disabled\n",
              "        style=\"border:none\" />\n",
              "     <output id=\"result-d1a23697-75b2-4a4c-bd52-a16746579fcd\">\n",
              "      Upload widget is only available when the cell has been executed in the\n",
              "      current browser session. Please rerun this cell to enable.\n",
              "      </output>\n",
              "      <script src=\"/nbextensions/google.colab/files.js\"></script> "
            ],
            "text/plain": [
              "<IPython.core.display.HTML object>"
            ]
          },
          "metadata": {
            "tags": []
          }
        },
        {
          "output_type": "stream",
          "text": [
            "Saving API-Youtube.txt to API-Youtube (1).txt\n",
            "User uploaded file \"API-Youtube.txt\" with length 39 bytes\n"
          ],
          "name": "stdout"
        }
      ]
    },
    {
      "cell_type": "markdown",
      "metadata": {
        "id": "W9SG0n3Xw72C"
      },
      "source": [
        "Para acessar os dados do canal será necessário fornecer a ID do canal. É o complemento do link que acessa diretamente o canal:\r\n",
        "\r\n",
        "\r\n",
        "youtube.com/channel/ `UCBkXV7dgFRUaDOk2saJooxA`\r\n"
      ]
    },
    {
      "cell_type": "code",
      "metadata": {
        "id": "rsOGJGbww5aj"
      },
      "source": [
        "# informar a id do canal\r\n",
        "id = 'UCBkXV7dgFRUaDOk2saJooxA'"
      ],
      "execution_count": 72,
      "outputs": []
    },
    {
      "cell_type": "code",
      "metadata": {
        "id": "cAAhvSDWnZrw"
      },
      "source": [
        "import json\r\n",
        "from googleapiclient.discovery import build\r\n",
        "\r\n",
        "metadados = build('youtube', 'v3', developerKey=api_key)"
      ],
      "execution_count": 73,
      "outputs": []
    },
    {
      "cell_type": "markdown",
      "metadata": {
        "id": "oqQdYDrJgDuv"
      },
      "source": [
        "## Obtendo informações e metadados\r\n",
        "\r\n",
        "Nós já criamos as credenciais e obtivemos corretamente o acesso a API. Para teste de funcionalidade iremos obter novamente as informações do canal."
      ]
    },
    {
      "cell_type": "markdown",
      "metadata": {
        "id": "hlfYl0gsgaRJ"
      },
      "source": [
        "### Metadados do Canal"
      ]
    },
    {
      "cell_type": "code",
      "metadata": {
        "colab": {
          "base_uri": "https://localhost:8080/"
        },
        "id": "tlTJKaxroB4q",
        "outputId": "bc0ff289-caf7-4235-e7b4-283932287900"
      },
      "source": [
        "# agora que estamos conectados a API do Youtube vamos em busca dos metadados primeiramente do canal\r\n",
        "\r\n",
        "request = metadados.channels().list(\r\n",
        "        part=\"snippet,contentDetails,statistics\",\r\n",
        "        id=id\r\n",
        "    )\r\n",
        "response = request.execute()\r\n",
        "\r\n",
        "# com a requisição executada vamos obter os dados estatísticos do canal:\r\n",
        "data = response['items'][0]['statistics']\r\n",
        "for k, v in data.items():\r\n",
        "    print(k, v)  \r\n"
      ],
      "execution_count": 74,
      "outputs": [
        {
          "output_type": "stream",
          "text": [
            "viewCount 46223108\n",
            "subscriberCount 1360000\n",
            "hiddenSubscriberCount False\n",
            "videoCount 270\n"
          ],
          "name": "stdout"
        }
      ]
    },
    {
      "cell_type": "markdown",
      "metadata": {
        "id": "6-TUKqeR5krP"
      },
      "source": [
        "Nesse primeira etapa, para testar as funcionalidades da API conseguimos obter os metadados do canal"
      ]
    },
    {
      "cell_type": "markdown",
      "metadata": {
        "id": "q0SqtU8VgoO9"
      },
      "source": [
        "### Metadados dos Vídeos\r\n",
        "\r\n",
        "A próxima etapa será obter os metadados por vídeos que não conseguimos obter utilizando o Selenium + BeautifulSoup."
      ]
    },
    {
      "cell_type": "markdown",
      "metadata": {
        "id": "kXUn5dSYhC_P"
      },
      "source": [
        "#### Para um vídeo\r\n",
        "\r\n",
        "Primeiramente de forma a esclarecer as funcionalidades da API iremos fazer um teste para apenas um vídeo."
      ]
    },
    {
      "cell_type": "code",
      "metadata": {
        "id": "KGmAIE82g9No"
      },
      "source": [
        "video_id= 'iyMP3bw3oDk'"
      ],
      "execution_count": 87,
      "outputs": []
    },
    {
      "cell_type": "code",
      "metadata": {
        "id": "KMjmMIE2x0kj"
      },
      "source": [
        "meta_videos = metadados.videos().list(\r\n",
        "        part=\"snippet,statistics\",\r\n",
        "        id= video_id\r\n",
        "    )\r\n",
        "meta_videos = meta_videos.execute()\r\n",
        "master_dados = []\r\n",
        "# com a requisição executada vamos obter os metadados do video:\r\n",
        "dados_gerais = meta_videos['items'][0]['snippet']\r\n",
        "dados_estat = meta_videos['items'][0]['statistics']\r\n"
      ],
      "execution_count": 88,
      "outputs": []
    },
    {
      "cell_type": "code",
      "metadata": {
        "colab": {
          "base_uri": "https://localhost:8080/",
          "height": 35
        },
        "id": "ESsLI7XDVDN7",
        "outputId": "593f0ab9-22a1-4806-a589-4ca0973872ba"
      },
      "source": [
        "# obtendo o ID do video\r\n",
        "meta_videos['items'][0]['id']"
      ],
      "execution_count": 89,
      "outputs": [
        {
          "output_type": "execute_result",
          "data": {
            "application/vnd.google.colaboratory.intrinsic+json": {
              "type": "string"
            },
            "text/plain": [
              "'iyMP3bw3oDk'"
            ]
          },
          "metadata": {
            "tags": []
          },
          "execution_count": 89
        }
      ]
    },
    {
      "cell_type": "code",
      "metadata": {
        "colab": {
          "base_uri": "https://localhost:8080/"
        },
        "id": "Bf3YvaHC8vib",
        "outputId": "f31e9107-3fce-49fa-e60f-3523cdfb34e9"
      },
      "source": [
        "# obtendo a data de publicação do video\r\n",
        "publishedAt = dados_gerais['publishedAt'].split('T')[0]\r\n",
        "print(publishedAt)"
      ],
      "execution_count": 90,
      "outputs": [
        {
          "output_type": "stream",
          "text": [
            "2021-01-27\n"
          ],
          "name": "stdout"
        }
      ]
    },
    {
      "cell_type": "code",
      "metadata": {
        "colab": {
          "base_uri": "https://localhost:8080/"
        },
        "id": "w5jwEELO9Dgd",
        "outputId": "5d347ff0-db2e-406b-ebe7-29099978bf82"
      },
      "source": [
        "# obtendo a título do video\r\n",
        "title = str(dados_gerais['title'])\r\n",
        "print(title)"
      ],
      "execution_count": 91,
      "outputs": [
        {
          "output_type": "stream",
          "text": [
            "MC Kekel e Niack - É Funk ou Pagode? (KondZilla)\n"
          ],
          "name": "stdout"
        }
      ]
    },
    {
      "cell_type": "code",
      "metadata": {
        "colab": {
          "base_uri": "https://localhost:8080/"
        },
        "id": "Lkyhj2Tb_ZL1",
        "outputId": "8f9c9916-2c6b-47bf-ae55-cfa6d8833317"
      },
      "source": [
        "# obtendo as tags do video\r\n",
        "tags = dados_gerais['tags']\r\n",
        "print(tags)"
      ],
      "execution_count": 92,
      "outputs": [
        {
          "output_type": "stream",
          "text": [
            "['kondzilla', 'kond', 'zilla', 'funk', 'fraan ferreira', 'portal', 'noticias', 'baile', 'favela', 'musica', 'comportamento', 'lançamento', 'Niack', 'Niack separei', 'niack 2021', 'niack kondzilla', 'mc kekel', 'mc kekel chapecoense', 'mc kekel 2021', 'mc kekel kondzilla']\n"
          ],
          "name": "stdout"
        }
      ]
    },
    {
      "cell_type": "code",
      "metadata": {
        "colab": {
          "base_uri": "https://localhost:8080/"
        },
        "id": "An-7fBdxAG5P",
        "outputId": "1c871b77-e631-43e5-d53d-f5f72e77b647"
      },
      "source": [
        "# obtendo a contagem de visualizações do video\r\n",
        "viewCount = int(dados_estat['viewCount'])\r\n",
        "print(viewCount)"
      ],
      "execution_count": 93,
      "outputs": [
        {
          "output_type": "stream",
          "text": [
            "1390\n"
          ],
          "name": "stdout"
        }
      ]
    },
    {
      "cell_type": "code",
      "metadata": {
        "colab": {
          "base_uri": "https://localhost:8080/"
        },
        "id": "6pAcykxIAjeW",
        "outputId": "00c0fef9-6a44-474e-d90e-b9dfdbdf8eae"
      },
      "source": [
        "# obtendo a contagem de likes do video\r\n",
        "likeCount = int(dados_estat['likeCount'])\r\n",
        "print(likeCount)"
      ],
      "execution_count": 94,
      "outputs": [
        {
          "output_type": "stream",
          "text": [
            "273\n"
          ],
          "name": "stdout"
        }
      ]
    },
    {
      "cell_type": "code",
      "metadata": {
        "colab": {
          "base_uri": "https://localhost:8080/"
        },
        "id": "4zFaE2ptAqaj",
        "outputId": "2ec7f3b8-141d-4364-9972-9d5f4f767871"
      },
      "source": [
        "# obtendo a contagem de deslikes do video\r\n",
        "dislikeCount = int(dados_estat['dislikeCount'])\r\n",
        "print(dislikeCount)"
      ],
      "execution_count": 95,
      "outputs": [
        {
          "output_type": "stream",
          "text": [
            "3\n"
          ],
          "name": "stdout"
        }
      ]
    },
    {
      "cell_type": "code",
      "metadata": {
        "colab": {
          "base_uri": "https://localhost:8080/"
        },
        "id": "sW4OJTaVAwei",
        "outputId": "6eb9fb2f-536e-464a-d825-717ee1db29b6"
      },
      "source": [
        "# obtendo a quantidade de favoritadas do video\r\n",
        "favoriteCount = int(dados_estat['favoriteCount'])\r\n",
        "print(favoriteCount)"
      ],
      "execution_count": 96,
      "outputs": [
        {
          "output_type": "stream",
          "text": [
            "0\n"
          ],
          "name": "stdout"
        }
      ]
    },
    {
      "cell_type": "code",
      "metadata": {
        "colab": {
          "base_uri": "https://localhost:8080/"
        },
        "id": "p4-delb6BSTG",
        "outputId": "b2c27627-64d1-46d1-ea6f-d0798c75c316"
      },
      "source": [
        "# obtendo a contagem de comentários do video\r\n",
        "commentCount = int(dados_estat['commentCount'])\r\n",
        "print(commentCount)"
      ],
      "execution_count": 97,
      "outputs": [
        {
          "output_type": "stream",
          "text": [
            "13\n"
          ],
          "name": "stdout"
        }
      ]
    },
    {
      "cell_type": "markdown",
      "metadata": {
        "id": "kencc9f_ZQp_"
      },
      "source": [
        "Agora que testamos para um vídeo do canal e as informações estão retornando corretamente, vamos criar uma função para obter todas as estatísticas por vídeo.\r\n",
        "No próximo passo iremos criar a função `estatística_video` responsável por fazer a consulta.\r\n",
        "Iremos fazer primeiramente um teste com dois videos e na sequência o teste com a lista de vídeos que obtivemos quando iniciamos esse notebook. Lembre-se para a criação do dataframe, acrescentamos as informações relativas ao link, será necessário excluí-la e converter a coluna para uma lista de itens."
      ]
    },
    {
      "cell_type": "code",
      "metadata": {
        "id": "fmCKmPgzTvMk"
      },
      "source": [
        "import json\r\n",
        "from googleapiclient.discovery import build\r\n",
        "\r\n",
        "# criando a função responsável por obter os dados da API do YouTube e acrescentá-la a um dicionário\r\n",
        "def estatistica_video(lista_videos, api_key=api_key):\r\n",
        "  \"\"\" recebe como parâmetro a lista de videos a serem consultados e a chave de acesso a API\r\n",
        "  o valor padrão da chave já foi definido quando enviamos o arquivo API-Youtube.txt\r\n",
        "  a saída da função será um dicionário com as estatísticas de cada vídeo.\r\n",
        "  \"\"\"\r\n",
        "\r\n",
        "  #conectando API\r\n",
        "  metadados = build('youtube', 'v3', developerKey=api_key)\r\n",
        "\r\n",
        "  # obtendo estatísticas para cada vídeo\r\n",
        "  master_dados = []\r\n",
        "  for video in lista_videos:\r\n",
        "      d = {}\r\n",
        "      meta_videos = metadados.videos().list(part=\"snippet,statistics\", id= video)\r\n",
        "      estatiscas = meta_videos.execute()\r\n",
        "      try:\r\n",
        "        d['id'] = str(estatiscas['items'][0]['id'])\r\n",
        "        dados_gerais = estatiscas['items'][0]['snippet']\r\n",
        "        d['publishedAt'] = dados_gerais['publishedAt']\r\n",
        "        #.split('T')[0]\r\n",
        "        d['title'] = str(dados_gerais['title'])\r\n",
        "        d['tags'] = dados_gerais['tags']\r\n",
        "\r\n",
        "        dados_estat = estatiscas['items'][0]['statistics']\r\n",
        "        d['view'] = int(dados_estat['viewCount'])\r\n",
        "        d['like'] = int(dados_estat['likeCount'])\r\n",
        "        d['deslike'] = int(dados_estat['dislikeCount'])\r\n",
        "        d['favorite'] = int(dados_estat['favoriteCount'])\r\n",
        "        d['commentCount'] = int(dados_estat['commentCount'])\r\n",
        "        master_dados.append(d)\r\n",
        "\r\n",
        "      except KeyError:\r\n",
        "          print('Não foi possível obter os dados do video {}'.format(video))\r\n",
        "          d = {}\r\n",
        "  return master_dados"
      ],
      "execution_count": 98,
      "outputs": []
    },
    {
      "cell_type": "markdown",
      "metadata": {
        "id": "h6VVFKAnax07"
      },
      "source": [
        "#### Teste com 2 vídeos\r\n",
        "\r\n",
        "Iremos realizar um teste com 2 vídeos para verificar o funcionamento da função `estatistica_videos`."
      ]
    },
    {
      "cell_type": "code",
      "metadata": {
        "id": "6WXWNHgxCQnb"
      },
      "source": [
        "video_id= ['iyMP3bw3oDk', 'BRQrvtgW22o']"
      ],
      "execution_count": 99,
      "outputs": []
    },
    {
      "cell_type": "code",
      "metadata": {
        "id": "D9s4AnzRW3OB"
      },
      "source": [
        "teste = estatistica_video(video_id)"
      ],
      "execution_count": 100,
      "outputs": []
    },
    {
      "cell_type": "markdown",
      "metadata": {
        "id": "3nxlZ1vNa9Bs"
      },
      "source": [
        "#### Lista de Vídeos do Canal\r\n",
        "\r\n",
        "Vamos obter a lista de vídeos do canal a partir do Dataframe criado inicialmente. Seria possível obter através da API, mas como a lista já está disponível nesse notebook irei utilizá-la."
      ]
    },
    {
      "cell_type": "code",
      "metadata": {
        "id": "abv4kKlnF90Z"
      },
      "source": [
        "# obtendo a lista de links a partir do dataframe\r\n",
        "lista = df['link'].tolist()\r\n",
        "\r\n",
        "# excluindo a informação antes do id para cada link\r\n",
        "lista_id = [id.split('?v=',1)[1] for id in lista]"
      ],
      "execution_count": 101,
      "outputs": []
    },
    {
      "cell_type": "code",
      "metadata": {
        "colab": {
          "base_uri": "https://localhost:8080/"
        },
        "id": "3CX6loErbJ5f",
        "outputId": "18fe1895-eb56-4467-b46e-428aa951557e"
      },
      "source": [
        "print(\"A quantidade de ids é {} e o primeiro id é {}.\" .format(len(lista_id), lista_id[0]))"
      ],
      "execution_count": 102,
      "outputs": [
        {
          "output_type": "stream",
          "text": [
            "A quantidade de ids é 270 e o primeiro id é iyMP3bw3oDk.\n"
          ],
          "name": "stdout"
        }
      ]
    },
    {
      "cell_type": "markdown",
      "metadata": {
        "id": "mUvoI6nDh2m8"
      },
      "source": [
        "Agora que estamos com a lista de vídeos completas do canal, vamos executar a função `estatistica_video` para a lista completa de vídeos do canal"
      ]
    },
    {
      "cell_type": "code",
      "metadata": {
        "colab": {
          "base_uri": "https://localhost:8080/"
        },
        "id": "DTCxqtc6bOTy",
        "outputId": "f320c7ab-0f32-48c0-bd7a-18660e228fff"
      },
      "source": [
        "estatistica = estatistica_video(lista_id)"
      ],
      "execution_count": 103,
      "outputs": [
        {
          "output_type": "stream",
          "text": [
            "Não foi possível obter os dados do video sY_4y42mCVU\n"
          ],
          "name": "stdout"
        }
      ]
    },
    {
      "cell_type": "code",
      "metadata": {
        "colab": {
          "base_uri": "https://localhost:8080/"
        },
        "id": "ifPrbJKpdff_",
        "outputId": "65aea55b-bb27-4b92-b003-81ba1381b1d2"
      },
      "source": [
        "len(estatistica)"
      ],
      "execution_count": 104,
      "outputs": [
        {
          "output_type": "execute_result",
          "data": {
            "text/plain": [
              "269"
            ]
          },
          "metadata": {
            "tags": []
          },
          "execution_count": 104
        }
      ]
    },
    {
      "cell_type": "markdown",
      "metadata": {
        "id": "U9HB4wGpdkvW"
      },
      "source": [
        "Como visto, 3 vídeos retornaram com erro. Nossa lista original possui mais entradas que a saída, mas neste exercício é suficiente."
      ]
    },
    {
      "cell_type": "code",
      "metadata": {
        "colab": {
          "base_uri": "https://localhost:8080/",
          "height": 289
        },
        "id": "yWnjOkz9dhM7",
        "outputId": "2bf2ace1-c766-4bcf-bd9a-51e67c9b988e"
      },
      "source": [
        "# convertendo para um Dataframe\r\n",
        "df1 = pd.DataFrame(estatistica)\r\n",
        "df1.head()"
      ],
      "execution_count": 106,
      "outputs": [
        {
          "output_type": "execute_result",
          "data": {
            "text/html": [
              "<div>\n",
              "<style scoped>\n",
              "    .dataframe tbody tr th:only-of-type {\n",
              "        vertical-align: middle;\n",
              "    }\n",
              "\n",
              "    .dataframe tbody tr th {\n",
              "        vertical-align: top;\n",
              "    }\n",
              "\n",
              "    .dataframe thead th {\n",
              "        text-align: right;\n",
              "    }\n",
              "</style>\n",
              "<table border=\"1\" class=\"dataframe\">\n",
              "  <thead>\n",
              "    <tr style=\"text-align: right;\">\n",
              "      <th></th>\n",
              "      <th>id</th>\n",
              "      <th>publishedAt</th>\n",
              "      <th>title</th>\n",
              "      <th>tags</th>\n",
              "      <th>view</th>\n",
              "      <th>like</th>\n",
              "      <th>deslike</th>\n",
              "      <th>favorite</th>\n",
              "      <th>commentCount</th>\n",
              "    </tr>\n",
              "  </thead>\n",
              "  <tbody>\n",
              "    <tr>\n",
              "      <th>0</th>\n",
              "      <td>iyMP3bw3oDk</td>\n",
              "      <td>2021-01-27T22:30:04Z</td>\n",
              "      <td>MC Kekel e Niack - É Funk ou Pagode? (KondZilla)</td>\n",
              "      <td>[kondzilla, kond, zilla, funk, fraan ferreira,...</td>\n",
              "      <td>1403</td>\n",
              "      <td>273</td>\n",
              "      <td>3</td>\n",
              "      <td>0</td>\n",
              "      <td>13</td>\n",
              "    </tr>\n",
              "    <tr>\n",
              "      <th>1</th>\n",
              "      <td>gGnEcNiZzVs</td>\n",
              "      <td>2021-01-26T21:00:22Z</td>\n",
              "      <td>HERvolution - A Revolução das Minas Na Cena (K...</td>\n",
              "      <td>[kondzilla, kond, zilla, funk, fraan ferreira,...</td>\n",
              "      <td>1528</td>\n",
              "      <td>209</td>\n",
              "      <td>6</td>\n",
              "      <td>0</td>\n",
              "      <td>16</td>\n",
              "    </tr>\n",
              "    <tr>\n",
              "      <th>2</th>\n",
              "      <td>A3lsa0Ge-xk</td>\n",
              "      <td>2021-01-25T21:00:06Z</td>\n",
              "      <td>Curiosidades com Vulgo FK: Revoada Com MC Kevi...</td>\n",
              "      <td>[kondzilla, kond, zilla, funk, fraan ferreira,...</td>\n",
              "      <td>10627</td>\n",
              "      <td>1239</td>\n",
              "      <td>6</td>\n",
              "      <td>0</td>\n",
              "      <td>21</td>\n",
              "    </tr>\n",
              "    <tr>\n",
              "      <th>3</th>\n",
              "      <td>DvUY4clvah0</td>\n",
              "      <td>2021-01-22T21:00:04Z</td>\n",
              "      <td>Como Retomar Os Estudos Na Fase Adulta? - Kond...</td>\n",
              "      <td>[kondzilla, kond, zilla, funk, fraan ferreira,...</td>\n",
              "      <td>91291</td>\n",
              "      <td>149</td>\n",
              "      <td>7</td>\n",
              "      <td>0</td>\n",
              "      <td>5</td>\n",
              "    </tr>\n",
              "    <tr>\n",
              "      <th>4</th>\n",
              "      <td>OT7M291OAXw</td>\n",
              "      <td>2021-01-21T21:00:04Z</td>\n",
              "      <td>#TodosPelasVacinas com MC Fioti - Vai Com o Bu...</td>\n",
              "      <td>[kondzilla, kond, zilla, funk, fraan ferreira,...</td>\n",
              "      <td>81139</td>\n",
              "      <td>9202</td>\n",
              "      <td>57</td>\n",
              "      <td>0</td>\n",
              "      <td>190</td>\n",
              "    </tr>\n",
              "  </tbody>\n",
              "</table>\n",
              "</div>"
            ],
            "text/plain": [
              "            id           publishedAt  ... favorite commentCount\n",
              "0  iyMP3bw3oDk  2021-01-27T22:30:04Z  ...        0           13\n",
              "1  gGnEcNiZzVs  2021-01-26T21:00:22Z  ...        0           16\n",
              "2  A3lsa0Ge-xk  2021-01-25T21:00:06Z  ...        0           21\n",
              "3  DvUY4clvah0  2021-01-22T21:00:04Z  ...        0            5\n",
              "4  OT7M291OAXw  2021-01-21T21:00:04Z  ...        0          190\n",
              "\n",
              "[5 rows x 9 columns]"
            ]
          },
          "metadata": {
            "tags": []
          },
          "execution_count": 106
        }
      ]
    },
    {
      "cell_type": "markdown",
      "metadata": {
        "id": "lIMpn8yQj-It"
      },
      "source": [
        "### Tratamento dos dados\r\n",
        "\r\n",
        "Muito bem, agora que conseguimos obter as informções para aproximadamente todos os vídeos do canal, vamos tratá-los adequadamente."
      ]
    },
    {
      "cell_type": "markdown",
      "metadata": {
        "id": "4_Zs9BpXkhdU"
      },
      "source": [
        "### Convertendo os dados para o padrão correto\r\n",
        "\r\n",
        "Vamos verificar o formato dos dados e converter para o padrão correto. Inclusive a coluna `publishedAt` que diz respeito a data de publicação.\r\n"
      ]
    },
    {
      "cell_type": "code",
      "metadata": {
        "colab": {
          "base_uri": "https://localhost:8080/",
          "height": 193
        },
        "id": "VQ9EjJo_i77u",
        "outputId": "5026241b-6f14-4808-b8fe-fac572671b90"
      },
      "source": [
        "# verificar o tipo dos dados no dataset\r\n",
        "display(df1.dtypes)"
      ],
      "execution_count": 107,
      "outputs": [
        {
          "output_type": "display_data",
          "data": {
            "text/plain": [
              "id              object\n",
              "publishedAt     object\n",
              "title           object\n",
              "tags            object\n",
              "view             int64\n",
              "like             int64\n",
              "deslike          int64\n",
              "favorite         int64\n",
              "commentCount     int64\n",
              "dtype: object"
            ]
          },
          "metadata": {
            "tags": []
          }
        }
      ]
    },
    {
      "cell_type": "code",
      "metadata": {
        "id": "Q3zCeS_LkD9w"
      },
      "source": [
        "df1['title'] = df1['title'].astype(str)\r\n",
        "df1['id'] = df1['id'].astype(str)"
      ],
      "execution_count": 108,
      "outputs": []
    },
    {
      "cell_type": "code",
      "metadata": {
        "id": "1VyO96QfkW5B"
      },
      "source": [
        "# convertendo a coluna de data de publicação\r\n",
        "df1['publishedAt'] = pd.to_datetime(pd.Series(df1['publishedAt']), format='%Y-%m-%d')"
      ],
      "execution_count": 109,
      "outputs": []
    },
    {
      "cell_type": "code",
      "metadata": {
        "id": "rPqgNyHFITuZ"
      },
      "source": [
        "# criando uma nova coluna com a contagem de tags por video\r\n",
        "df1['count_tags'] = [len(c) for c in df1['tags']]\r\n"
      ],
      "execution_count": 110,
      "outputs": []
    },
    {
      "cell_type": "code",
      "metadata": {
        "id": "mPjypkA-Sqpp"
      },
      "source": [
        "# criando uma nova coluna para verificar quantos dias o vídeo está disponível\r\n",
        "import datetime as dt\r\n",
        "today = datetime.datetime.now().date()\r\n",
        "\r\n",
        "df1['age'] = (today - pd.to_datetime(df1['publishedAt']).dt.date).dt.days"
      ],
      "execution_count": 111,
      "outputs": []
    },
    {
      "cell_type": "code",
      "metadata": {
        "colab": {
          "base_uri": "https://localhost:8080/",
          "height": 289
        },
        "id": "4lafmszOySRr",
        "outputId": "80a98c34-660f-4a2a-b9fc-a272d577d81e"
      },
      "source": [
        "df1.head()"
      ],
      "execution_count": 112,
      "outputs": [
        {
          "output_type": "execute_result",
          "data": {
            "text/html": [
              "<div>\n",
              "<style scoped>\n",
              "    .dataframe tbody tr th:only-of-type {\n",
              "        vertical-align: middle;\n",
              "    }\n",
              "\n",
              "    .dataframe tbody tr th {\n",
              "        vertical-align: top;\n",
              "    }\n",
              "\n",
              "    .dataframe thead th {\n",
              "        text-align: right;\n",
              "    }\n",
              "</style>\n",
              "<table border=\"1\" class=\"dataframe\">\n",
              "  <thead>\n",
              "    <tr style=\"text-align: right;\">\n",
              "      <th></th>\n",
              "      <th>id</th>\n",
              "      <th>publishedAt</th>\n",
              "      <th>title</th>\n",
              "      <th>tags</th>\n",
              "      <th>view</th>\n",
              "      <th>like</th>\n",
              "      <th>deslike</th>\n",
              "      <th>favorite</th>\n",
              "      <th>commentCount</th>\n",
              "      <th>count_tags</th>\n",
              "      <th>age</th>\n",
              "    </tr>\n",
              "  </thead>\n",
              "  <tbody>\n",
              "    <tr>\n",
              "      <th>0</th>\n",
              "      <td>iyMP3bw3oDk</td>\n",
              "      <td>2021-01-27 22:30:04+00:00</td>\n",
              "      <td>MC Kekel e Niack - É Funk ou Pagode? (KondZilla)</td>\n",
              "      <td>[kondzilla, kond, zilla, funk, fraan ferreira,...</td>\n",
              "      <td>1403</td>\n",
              "      <td>273</td>\n",
              "      <td>3</td>\n",
              "      <td>0</td>\n",
              "      <td>13</td>\n",
              "      <td>20</td>\n",
              "      <td>1</td>\n",
              "    </tr>\n",
              "    <tr>\n",
              "      <th>1</th>\n",
              "      <td>gGnEcNiZzVs</td>\n",
              "      <td>2021-01-26 21:00:22+00:00</td>\n",
              "      <td>HERvolution - A Revolução das Minas Na Cena (K...</td>\n",
              "      <td>[kondzilla, kond, zilla, funk, fraan ferreira,...</td>\n",
              "      <td>1528</td>\n",
              "      <td>209</td>\n",
              "      <td>6</td>\n",
              "      <td>0</td>\n",
              "      <td>16</td>\n",
              "      <td>16</td>\n",
              "      <td>2</td>\n",
              "    </tr>\n",
              "    <tr>\n",
              "      <th>2</th>\n",
              "      <td>A3lsa0Ge-xk</td>\n",
              "      <td>2021-01-25 21:00:06+00:00</td>\n",
              "      <td>Curiosidades com Vulgo FK: Revoada Com MC Kevi...</td>\n",
              "      <td>[kondzilla, kond, zilla, funk, fraan ferreira,...</td>\n",
              "      <td>10627</td>\n",
              "      <td>1239</td>\n",
              "      <td>6</td>\n",
              "      <td>0</td>\n",
              "      <td>21</td>\n",
              "      <td>15</td>\n",
              "      <td>3</td>\n",
              "    </tr>\n",
              "    <tr>\n",
              "      <th>3</th>\n",
              "      <td>DvUY4clvah0</td>\n",
              "      <td>2021-01-22 21:00:04+00:00</td>\n",
              "      <td>Como Retomar Os Estudos Na Fase Adulta? - Kond...</td>\n",
              "      <td>[kondzilla, kond, zilla, funk, fraan ferreira,...</td>\n",
              "      <td>91291</td>\n",
              "      <td>149</td>\n",
              "      <td>7</td>\n",
              "      <td>0</td>\n",
              "      <td>5</td>\n",
              "      <td>17</td>\n",
              "      <td>6</td>\n",
              "    </tr>\n",
              "    <tr>\n",
              "      <th>4</th>\n",
              "      <td>OT7M291OAXw</td>\n",
              "      <td>2021-01-21 21:00:04+00:00</td>\n",
              "      <td>#TodosPelasVacinas com MC Fioti - Vai Com o Bu...</td>\n",
              "      <td>[kondzilla, kond, zilla, funk, fraan ferreira,...</td>\n",
              "      <td>81139</td>\n",
              "      <td>9202</td>\n",
              "      <td>57</td>\n",
              "      <td>0</td>\n",
              "      <td>190</td>\n",
              "      <td>18</td>\n",
              "      <td>7</td>\n",
              "    </tr>\n",
              "  </tbody>\n",
              "</table>\n",
              "</div>"
            ],
            "text/plain": [
              "            id               publishedAt  ... count_tags age\n",
              "0  iyMP3bw3oDk 2021-01-27 22:30:04+00:00  ...         20   1\n",
              "1  gGnEcNiZzVs 2021-01-26 21:00:22+00:00  ...         16   2\n",
              "2  A3lsa0Ge-xk 2021-01-25 21:00:06+00:00  ...         15   3\n",
              "3  DvUY4clvah0 2021-01-22 21:00:04+00:00  ...         17   6\n",
              "4  OT7M291OAXw 2021-01-21 21:00:04+00:00  ...         18   7\n",
              "\n",
              "[5 rows x 11 columns]"
            ]
          },
          "metadata": {
            "tags": []
          },
          "execution_count": 112
        }
      ]
    },
    {
      "cell_type": "markdown",
      "metadata": {
        "id": "-1Kspxbki_SI"
      },
      "source": [
        "### Exploração dos dados\r\n",
        "\r\n",
        "Muito bem, agora que conseguimos obter as informções para aproximadamente todos os vídeos do canal, vamos explorá-los adiante"
      ]
    },
    {
      "cell_type": "markdown",
      "metadata": {
        "id": "7WoqyYWXNoV6"
      },
      "source": [
        "#### Qual o vídeo mais visualizado?\r\n",
        "\r\n",
        "O passo seguinte iremos verificar qual o vídeo mais visualizado, quantas visualizações e quando ele foi publicado."
      ]
    },
    {
      "cell_type": "code",
      "metadata": {
        "colab": {
          "base_uri": "https://localhost:8080/"
        },
        "id": "T4CJ3nTxjdDG",
        "outputId": "df66852b-cf2e-497b-ee80-86bdef6b630e"
      },
      "source": [
        "# obter os metadados do vídeo mais visualizado\r\n",
        "max_views = df1['view'].max()\r\n",
        "info_max = df1.loc[df1['view'] == max_views]\r\n",
        "\r\n",
        "# obtendo o título\r\n",
        "title_max  = info_max['title'].values[0]\r\n",
        "# obtendo a data de publicação\r\n",
        "publ_max = (info_max['publishedAt'].dt.strftime('%Y-%b-%d').values)[0]\r\n",
        "\r\n",
        "# retornando informações\r\n",
        "print(\"O vídeo mais visualizado foi visualizado {:,} e o título é: \\n {}\".format(max_views, title_max))\r\n",
        "print('Esse vídeo foi publicado em {}.'. format(publ_max))"
      ],
      "execution_count": 113,
      "outputs": [
        {
          "output_type": "stream",
          "text": [
            "O vídeo mais visualizado foi visualizado 3,196,272 e o título é: \n",
            " Teaser - Empreendedores Da Quebrada (KondZilla.com)\n",
            "Esse vídeo foi publicado em 2019-Aug-24.\n"
          ],
          "name": "stdout"
        }
      ]
    },
    {
      "cell_type": "markdown",
      "metadata": {
        "id": "XUvIrzydcW1j"
      },
      "source": [
        "#### Quais os totais para as colunas numéricas?\r\n",
        "\r\n",
        "Com os dados tratados fica fácil de obter essas informações."
      ]
    },
    {
      "cell_type": "code",
      "metadata": {
        "id": "mMpLHZOBchr9"
      },
      "source": [
        "view_sum = df1['view'].sum()\r\n",
        "like_sum = df1['like'].sum()\r\n",
        "comment_sum = df1['commentCount'].sum()\r\n"
      ],
      "execution_count": 114,
      "outputs": []
    },
    {
      "cell_type": "code",
      "metadata": {
        "colab": {
          "base_uri": "https://localhost:8080/"
        },
        "id": "X9U47Z37c6PL",
        "outputId": "21e87d61-5362-4572-eb81-0f0067dc04d6"
      },
      "source": [
        "print(\"O total de views dos videos no canal é {:,}.\".format(view_sum))\r\n",
        "print(\"O total de likes dos videos no canal é {:,}.\".format(like_sum))\r\n",
        "print(\"O total de comments dos videos no canal é {:,}.\".format(comment_sum))"
      ],
      "execution_count": 115,
      "outputs": [
        {
          "output_type": "stream",
          "text": [
            "O total de views dos videos no canal é 45,476,635.\n",
            "O total de likes dos videos no canal é 2,079,183.\n",
            "O total de comments dos videos no canal é 41,841.\n"
          ],
          "name": "stdout"
        }
      ]
    },
    {
      "cell_type": "markdown",
      "metadata": {
        "id": "b-b-wjvzOK1Y"
      },
      "source": [
        "#### O que mais podemos observar das estatísticas do canal?\r\n",
        "\r\n"
      ]
    },
    {
      "cell_type": "code",
      "metadata": {
        "id": "n1xUXyIh5_yh",
        "colab": {
          "base_uri": "https://localhost:8080/",
          "height": 185
        },
        "outputId": "2be9d6b2-47b5-4709-af2b-e42a96b00959"
      },
      "source": [
        "df1.describe().T.drop(columns=['count']).style.background_gradient(axis=1)"
      ],
      "execution_count": 116,
      "outputs": [
        {
          "output_type": "execute_result",
          "data": {
            "text/html": [
              "<style  type=\"text/css\" >\n",
              "#T_661eccc4_6105_11eb_804c_0242ac1c0002row0_col0,#T_661eccc4_6105_11eb_804c_0242ac1c0002row1_col0{\n",
              "            background-color:  #f7f0f7;\n",
              "            color:  #000000;\n",
              "        }#T_661eccc4_6105_11eb_804c_0242ac1c0002row0_col1{\n",
              "            background-color:  #eee9f3;\n",
              "            color:  #000000;\n",
              "        }#T_661eccc4_6105_11eb_804c_0242ac1c0002row0_col2,#T_661eccc4_6105_11eb_804c_0242ac1c0002row1_col2,#T_661eccc4_6105_11eb_804c_0242ac1c0002row2_col2,#T_661eccc4_6105_11eb_804c_0242ac1c0002row2_col3,#T_661eccc4_6105_11eb_804c_0242ac1c0002row3_col0,#T_661eccc4_6105_11eb_804c_0242ac1c0002row3_col1,#T_661eccc4_6105_11eb_804c_0242ac1c0002row3_col2,#T_661eccc4_6105_11eb_804c_0242ac1c0002row3_col3,#T_661eccc4_6105_11eb_804c_0242ac1c0002row3_col4,#T_661eccc4_6105_11eb_804c_0242ac1c0002row3_col5,#T_661eccc4_6105_11eb_804c_0242ac1c0002row3_col6,#T_661eccc4_6105_11eb_804c_0242ac1c0002row4_col2,#T_661eccc4_6105_11eb_804c_0242ac1c0002row5_col1,#T_661eccc4_6105_11eb_804c_0242ac1c0002row6_col2{\n",
              "            background-color:  #fff7fb;\n",
              "            color:  #000000;\n",
              "        }#T_661eccc4_6105_11eb_804c_0242ac1c0002row0_col3,#T_661eccc4_6105_11eb_804c_0242ac1c0002row1_col3,#T_661eccc4_6105_11eb_804c_0242ac1c0002row2_col4{\n",
              "            background-color:  #fef6fb;\n",
              "            color:  #000000;\n",
              "        }#T_661eccc4_6105_11eb_804c_0242ac1c0002row0_col4,#T_661eccc4_6105_11eb_804c_0242ac1c0002row1_col4,#T_661eccc4_6105_11eb_804c_0242ac1c0002row2_col5,#T_661eccc4_6105_11eb_804c_0242ac1c0002row4_col4{\n",
              "            background-color:  #fdf5fa;\n",
              "            color:  #000000;\n",
              "        }#T_661eccc4_6105_11eb_804c_0242ac1c0002row0_col5{\n",
              "            background-color:  #f9f2f8;\n",
              "            color:  #000000;\n",
              "        }#T_661eccc4_6105_11eb_804c_0242ac1c0002row0_col6,#T_661eccc4_6105_11eb_804c_0242ac1c0002row1_col6,#T_661eccc4_6105_11eb_804c_0242ac1c0002row2_col6,#T_661eccc4_6105_11eb_804c_0242ac1c0002row4_col6,#T_661eccc4_6105_11eb_804c_0242ac1c0002row5_col6,#T_661eccc4_6105_11eb_804c_0242ac1c0002row6_col6{\n",
              "            background-color:  #023858;\n",
              "            color:  #f1f1f1;\n",
              "        }#T_661eccc4_6105_11eb_804c_0242ac1c0002row1_col1{\n",
              "            background-color:  #f0eaf4;\n",
              "            color:  #000000;\n",
              "        }#T_661eccc4_6105_11eb_804c_0242ac1c0002row1_col5,#T_661eccc4_6105_11eb_804c_0242ac1c0002row4_col5{\n",
              "            background-color:  #f8f1f8;\n",
              "            color:  #000000;\n",
              "        }#T_661eccc4_6105_11eb_804c_0242ac1c0002row2_col0{\n",
              "            background-color:  #fcf4fa;\n",
              "            color:  #000000;\n",
              "        }#T_661eccc4_6105_11eb_804c_0242ac1c0002row2_col1{\n",
              "            background-color:  #f5eef6;\n",
              "            color:  #000000;\n",
              "        }#T_661eccc4_6105_11eb_804c_0242ac1c0002row4_col0{\n",
              "            background-color:  #f6eff7;\n",
              "            color:  #000000;\n",
              "        }#T_661eccc4_6105_11eb_804c_0242ac1c0002row4_col1{\n",
              "            background-color:  #ede8f3;\n",
              "            color:  #000000;\n",
              "        }#T_661eccc4_6105_11eb_804c_0242ac1c0002row4_col3{\n",
              "            background-color:  #fef6fa;\n",
              "            color:  #000000;\n",
              "        }#T_661eccc4_6105_11eb_804c_0242ac1c0002row5_col0{\n",
              "            background-color:  #2081b9;\n",
              "            color:  #000000;\n",
              "        }#T_661eccc4_6105_11eb_804c_0242ac1c0002row5_col2{\n",
              "            background-color:  #e7e3f0;\n",
              "            color:  #000000;\n",
              "        }#T_661eccc4_6105_11eb_804c_0242ac1c0002row5_col3{\n",
              "            background-color:  #3b92c1;\n",
              "            color:  #000000;\n",
              "        }#T_661eccc4_6105_11eb_804c_0242ac1c0002row5_col4{\n",
              "            background-color:  #2987bc;\n",
              "            color:  #000000;\n",
              "        }#T_661eccc4_6105_11eb_804c_0242ac1c0002row5_col5{\n",
              "            background-color:  #0771b1;\n",
              "            color:  #f1f1f1;\n",
              "        }#T_661eccc4_6105_11eb_804c_0242ac1c0002row6_col0{\n",
              "            background-color:  #62a2cb;\n",
              "            color:  #000000;\n",
              "        }#T_661eccc4_6105_11eb_804c_0242ac1c0002row6_col1{\n",
              "            background-color:  #bdc8e1;\n",
              "            color:  #000000;\n",
              "        }#T_661eccc4_6105_11eb_804c_0242ac1c0002row6_col3{\n",
              "            background-color:  #cacee5;\n",
              "            color:  #000000;\n",
              "        }#T_661eccc4_6105_11eb_804c_0242ac1c0002row6_col4{\n",
              "            background-color:  #5ea0ca;\n",
              "            color:  #000000;\n",
              "        }#T_661eccc4_6105_11eb_804c_0242ac1c0002row6_col5{\n",
              "            background-color:  #05659f;\n",
              "            color:  #f1f1f1;\n",
              "        }</style><table id=\"T_661eccc4_6105_11eb_804c_0242ac1c0002\" ><thead>    <tr>        <th class=\"blank level0\" ></th>        <th class=\"col_heading level0 col0\" >mean</th>        <th class=\"col_heading level0 col1\" >std</th>        <th class=\"col_heading level0 col2\" >min</th>        <th class=\"col_heading level0 col3\" >25%</th>        <th class=\"col_heading level0 col4\" >50%</th>        <th class=\"col_heading level0 col5\" >75%</th>        <th class=\"col_heading level0 col6\" >max</th>    </tr></thead><tbody>\n",
              "                <tr>\n",
              "                        <th id=\"T_661eccc4_6105_11eb_804c_0242ac1c0002level0_row0\" class=\"row_heading level0 row0\" >view</th>\n",
              "                        <td id=\"T_661eccc4_6105_11eb_804c_0242ac1c0002row0_col0\" class=\"data row0 col0\" >169058.122677</td>\n",
              "                        <td id=\"T_661eccc4_6105_11eb_804c_0242ac1c0002row0_col1\" class=\"data row0 col1\" >352692.530318</td>\n",
              "                        <td id=\"T_661eccc4_6105_11eb_804c_0242ac1c0002row0_col2\" class=\"data row0 col2\" >1403.000000</td>\n",
              "                        <td id=\"T_661eccc4_6105_11eb_804c_0242ac1c0002row0_col3\" class=\"data row0 col3\" >16091.000000</td>\n",
              "                        <td id=\"T_661eccc4_6105_11eb_804c_0242ac1c0002row0_col4\" class=\"data row0 col4\" >48851.000000</td>\n",
              "                        <td id=\"T_661eccc4_6105_11eb_804c_0242ac1c0002row0_col5\" class=\"data row0 col5\" >137890.000000</td>\n",
              "                        <td id=\"T_661eccc4_6105_11eb_804c_0242ac1c0002row0_col6\" class=\"data row0 col6\" >3196272.000000</td>\n",
              "            </tr>\n",
              "            <tr>\n",
              "                        <th id=\"T_661eccc4_6105_11eb_804c_0242ac1c0002level0_row1\" class=\"row_heading level0 row1\" >like</th>\n",
              "                        <td id=\"T_661eccc4_6105_11eb_804c_0242ac1c0002row1_col0\" class=\"data row1 col0\" >7729.304833</td>\n",
              "                        <td id=\"T_661eccc4_6105_11eb_804c_0242ac1c0002row1_col1\" class=\"data row1 col1\" >14461.674250</td>\n",
              "                        <td id=\"T_661eccc4_6105_11eb_804c_0242ac1c0002row1_col2\" class=\"data row1 col2\" >149.000000</td>\n",
              "                        <td id=\"T_661eccc4_6105_11eb_804c_0242ac1c0002row1_col3\" class=\"data row1 col3\" >952.000000</td>\n",
              "                        <td id=\"T_661eccc4_6105_11eb_804c_0242ac1c0002row1_col4\" class=\"data row1 col4\" >2264.000000</td>\n",
              "                        <td id=\"T_661eccc4_6105_11eb_804c_0242ac1c0002row1_col5\" class=\"data row1 col5\" >7151.000000</td>\n",
              "                        <td id=\"T_661eccc4_6105_11eb_804c_0242ac1c0002row1_col6\" class=\"data row1 col6\" >143883.000000</td>\n",
              "            </tr>\n",
              "            <tr>\n",
              "                        <th id=\"T_661eccc4_6105_11eb_804c_0242ac1c0002level0_row2\" class=\"row_heading level0 row2\" >deslike</th>\n",
              "                        <td id=\"T_661eccc4_6105_11eb_804c_0242ac1c0002row2_col0\" class=\"data row2 col0\" >153.189591</td>\n",
              "                        <td id=\"T_661eccc4_6105_11eb_804c_0242ac1c0002row2_col1\" class=\"data row2 col1\" >503.103211</td>\n",
              "                        <td id=\"T_661eccc4_6105_11eb_804c_0242ac1c0002row2_col2\" class=\"data row2 col2\" >1.000000</td>\n",
              "                        <td id=\"T_661eccc4_6105_11eb_804c_0242ac1c0002row2_col3\" class=\"data row2 col3\" >17.000000</td>\n",
              "                        <td id=\"T_661eccc4_6105_11eb_804c_0242ac1c0002row2_col4\" class=\"data row2 col4\" >47.000000</td>\n",
              "                        <td id=\"T_661eccc4_6105_11eb_804c_0242ac1c0002row2_col5\" class=\"data row2 col5\" >119.000000</td>\n",
              "                        <td id=\"T_661eccc4_6105_11eb_804c_0242ac1c0002row2_col6\" class=\"data row2 col6\" >7539.000000</td>\n",
              "            </tr>\n",
              "            <tr>\n",
              "                        <th id=\"T_661eccc4_6105_11eb_804c_0242ac1c0002level0_row3\" class=\"row_heading level0 row3\" >favorite</th>\n",
              "                        <td id=\"T_661eccc4_6105_11eb_804c_0242ac1c0002row3_col0\" class=\"data row3 col0\" >0.000000</td>\n",
              "                        <td id=\"T_661eccc4_6105_11eb_804c_0242ac1c0002row3_col1\" class=\"data row3 col1\" >0.000000</td>\n",
              "                        <td id=\"T_661eccc4_6105_11eb_804c_0242ac1c0002row3_col2\" class=\"data row3 col2\" >0.000000</td>\n",
              "                        <td id=\"T_661eccc4_6105_11eb_804c_0242ac1c0002row3_col3\" class=\"data row3 col3\" >0.000000</td>\n",
              "                        <td id=\"T_661eccc4_6105_11eb_804c_0242ac1c0002row3_col4\" class=\"data row3 col4\" >0.000000</td>\n",
              "                        <td id=\"T_661eccc4_6105_11eb_804c_0242ac1c0002row3_col5\" class=\"data row3 col5\" >0.000000</td>\n",
              "                        <td id=\"T_661eccc4_6105_11eb_804c_0242ac1c0002row3_col6\" class=\"data row3 col6\" >0.000000</td>\n",
              "            </tr>\n",
              "            <tr>\n",
              "                        <th id=\"T_661eccc4_6105_11eb_804c_0242ac1c0002level0_row4\" class=\"row_heading level0 row4\" >commentCount</th>\n",
              "                        <td id=\"T_661eccc4_6105_11eb_804c_0242ac1c0002row4_col0\" class=\"data row4 col0\" >155.542751</td>\n",
              "                        <td id=\"T_661eccc4_6105_11eb_804c_0242ac1c0002row4_col1\" class=\"data row4 col1\" >302.417219</td>\n",
              "                        <td id=\"T_661eccc4_6105_11eb_804c_0242ac1c0002row4_col2\" class=\"data row4 col2\" >3.000000</td>\n",
              "                        <td id=\"T_661eccc4_6105_11eb_804c_0242ac1c0002row4_col3\" class=\"data row4 col3\" >24.000000</td>\n",
              "                        <td id=\"T_661eccc4_6105_11eb_804c_0242ac1c0002row4_col4\" class=\"data row4 col4\" >50.000000</td>\n",
              "                        <td id=\"T_661eccc4_6105_11eb_804c_0242ac1c0002row4_col5\" class=\"data row4 col5\" >120.000000</td>\n",
              "                        <td id=\"T_661eccc4_6105_11eb_804c_0242ac1c0002row4_col6\" class=\"data row4 col6\" >2535.000000</td>\n",
              "            </tr>\n",
              "            <tr>\n",
              "                        <th id=\"T_661eccc4_6105_11eb_804c_0242ac1c0002level0_row5\" class=\"row_heading level0 row5\" >count_tags</th>\n",
              "                        <td id=\"T_661eccc4_6105_11eb_804c_0242ac1c0002row5_col0\" class=\"data row5 col0\" >18.486989</td>\n",
              "                        <td id=\"T_661eccc4_6105_11eb_804c_0242ac1c0002row5_col1\" class=\"data row5 col1\" >2.526874</td>\n",
              "                        <td id=\"T_661eccc4_6105_11eb_804c_0242ac1c0002row5_col2\" class=\"data row5 col2\" >6.000000</td>\n",
              "                        <td id=\"T_661eccc4_6105_11eb_804c_0242ac1c0002row5_col3\" class=\"data row5 col3\" >17.000000</td>\n",
              "                        <td id=\"T_661eccc4_6105_11eb_804c_0242ac1c0002row5_col4\" class=\"data row5 col4\" >18.000000</td>\n",
              "                        <td id=\"T_661eccc4_6105_11eb_804c_0242ac1c0002row5_col5\" class=\"data row5 col5\" >20.000000</td>\n",
              "                        <td id=\"T_661eccc4_6105_11eb_804c_0242ac1c0002row5_col6\" class=\"data row5 col6\" >26.000000</td>\n",
              "            </tr>\n",
              "            <tr>\n",
              "                        <th id=\"T_661eccc4_6105_11eb_804c_0242ac1c0002level0_row6\" class=\"row_heading level0 row6\" >age</th>\n",
              "                        <td id=\"T_661eccc4_6105_11eb_804c_0242ac1c0002row6_col0\" class=\"data row6 col0\" >281.795539</td>\n",
              "                        <td id=\"T_661eccc4_6105_11eb_804c_0242ac1c0002row6_col1\" class=\"data row6 col1\" >161.762007</td>\n",
              "                        <td id=\"T_661eccc4_6105_11eb_804c_0242ac1c0002row6_col2\" class=\"data row6 col2\" >1.000000</td>\n",
              "                        <td id=\"T_661eccc4_6105_11eb_804c_0242ac1c0002row6_col3\" class=\"data row6 col3\" >141.000000</td>\n",
              "                        <td id=\"T_661eccc4_6105_11eb_804c_0242ac1c0002row6_col4\" class=\"data row6 col4\" >287.000000</td>\n",
              "                        <td id=\"T_661eccc4_6105_11eb_804c_0242ac1c0002row6_col5\" class=\"data row6 col5\" >425.000000</td>\n",
              "                        <td id=\"T_661eccc4_6105_11eb_804c_0242ac1c0002row6_col6\" class=\"data row6 col6\" >525.000000</td>\n",
              "            </tr>\n",
              "    </tbody></table>"
            ],
            "text/plain": [
              "<pandas.io.formats.style.Styler at 0x7fcc7e0e9c50>"
            ]
          },
          "metadata": {
            "tags": []
          },
          "execution_count": 116
        }
      ]
    },
    {
      "cell_type": "markdown",
      "metadata": {
        "id": "O9x5Do93Nk34"
      },
      "source": [
        "Da função anterior podemos observar:\r\n",
        "\r\n",
        "* Views: os vídeos do canal possuem em torno de 4.900 visualizações, sendo que o vídeo com mais visualizações possui 100.706 view\r\n",
        "* Likes: em relação aos likes os vídeos possuem em torno de 630 likes\r\n",
        "* Comentários: 75% do vídeos do canal possuem em média 69 comentários e o video mais comentado possui 1.444. E você já fez o seu?\r\n",
        "* Tags: em relação a contagem de tags a média por video é de 22 comentários, sendo que 75% dos videos possui 27 tags.\r\n",
        "\r\n",
        "\r\n"
      ]
    },
    {
      "cell_type": "markdown",
      "metadata": {
        "id": "T-J_njJTPfmB"
      },
      "source": [
        "#### Visualizando a distribuição de dados"
      ]
    },
    {
      "cell_type": "code",
      "metadata": {
        "colab": {
          "base_uri": "https://localhost:8080/",
          "height": 607
        },
        "id": "ni6N9d0VMxGt",
        "outputId": "19af631b-a64b-4427-e134-6c9032bdf84b"
      },
      "source": [
        "df1.hist(bins = 10, figsize=(15,10));"
      ],
      "execution_count": 117,
      "outputs": [
        {
          "output_type": "display_data",
          "data": {
            "image/png": "[encoded data removed]",
            "text/plain": [
              "<Figure size 1080x720 with 9 Axes>"
            ]
          },
          "metadata": {
            "tags": [],
            "needs_background": "light"
          }
        }
      ]
    },
    {
      "cell_type": "markdown",
      "metadata": {
        "id": "F8kxyYeBQA7k"
      },
      "source": [
        "#### Correlação entre os dados\r\n",
        "\r\n",
        "Será que há correlação entre os dados.\r\n",
        "\r\n",
        "Vídeos postados anteriormente deveriam possuir mais comentários e visualização que os atuais?\r\n",
        "\r\n",
        "Vídeos com mais tags são mais visualizados ou comentados?\r\n"
      ]
    },
    {
      "cell_type": "code",
      "metadata": {
        "colab": {
          "base_uri": "https://localhost:8080/",
          "height": 336
        },
        "id": "WH39RJkSQTmn",
        "outputId": "0ea2e66c-663d-4290-bb47-b1b3c5a23fc2"
      },
      "source": [
        "import seaborn as sns\r\n",
        "\r\n",
        "df2 = df1.copy()\r\n",
        "# optei por remover a feature favorite pois está zerada\r\n",
        "df2.age = pd.to_numeric(df2.age)\r\n",
        "corr = df2.drop('favorite', axis=1).corr()\r\n",
        "sns.heatmap(corr, cmap='RdBu', fmt='.2f', square=True, linewidths=.5, linecolor='white', annot=True);"
      ],
      "execution_count": 118,
      "outputs": [
        {
          "output_type": "display_data",
          "data": {
            "image/png": "[encoded data removed]",
            "text/plain": [
              "<Figure size 432x288 with 2 Axes>"
            ]
          },
          "metadata": {
            "tags": [],
            "needs_background": "light"
          }
        }
      ]
    },
    {
      "cell_type": "markdown",
      "metadata": {
        "id": "ql699_KDXn5d"
      },
      "source": [
        "Interessante observar que não há uma correlação positiva entre a `idade` do vídeo e as demais informações (correlação negativa).\r\n",
        "\r\n",
        "Como esperado `commentsCount` e `like` estão positivamente correlacionados com os views.\r\n",
        "\r\n",
        "A quantidade de `tags` também não tem correlação positiva com a quantidade de `views`."
      ]
    },
    {
      "cell_type": "markdown",
      "metadata": {
        "id": "KAOZpV6eiOkn"
      },
      "source": [
        "#### Velocidade de Publicações"
      ]
    },
    {
      "cell_type": "code",
      "metadata": {
        "colab": {
          "base_uri": "https://localhost:8080/",
          "height": 295
        },
        "id": "2qaZe3-Wdzxj",
        "outputId": "4f9aa61b-e347-4b27-b729-0ef7d6c3dea3"
      },
      "source": [
        "cumulative = df2.groupby(df2['publishedAt']).apply(lambda x: sum(df2['publishedAt']<x.name))\r\n",
        "cumulative.plot()"
      ],
      "execution_count": 119,
      "outputs": [
        {
          "output_type": "execute_result",
          "data": {
            "text/plain": [
              "<matplotlib.axes._subplots.AxesSubplot at 0x7fcc7db53f98>"
            ]
          },
          "metadata": {
            "tags": []
          },
          "execution_count": 119
        },
        {
          "output_type": "display_data",
          "data": {
            "image/png": "[encoded data removed]",
            "text/plain": [
              "<Figure size 432x288 with 1 Axes>"
            ]
          },
          "metadata": {
            "tags": [],
            "needs_background": "light"
          }
        }
      ]
    },
    {
      "cell_type": "markdown",
      "metadata": {
        "id": "FVt11lWriM7a"
      },
      "source": [
        "# Conclusão\r\n",
        "\r\n",
        "Esse notebbook iniciou-se como um exercício prático para elaboração de um web scraper a fim de obtenção dos dados de um canal no Youtube.\r\n",
        "\r\n",
        "Aprofundando no assunto, percebo que acabei violando as regras de utilização e acabei bloqueado. O Youtube tem sérias restrições a acessos automatizados.\r\n",
        "\r\n",
        "A fim de contornar a restrição procurei obter os dados a partir da API do Youtube que se mostrou muito mais amigável.\r\n",
        "Aproveitei ainda para reforçar alguns conceitos de tratamento e visualização de dados.\r\n",
        "\r\n",
        "Se você chegou até aqui não deixe de acompanhar meu [portfolio](https://github.com/mabittar/Portfolio) de projetos e novos posts no meu [site](https://mabittar.github.io/)"
      ]
    }
  ]
}